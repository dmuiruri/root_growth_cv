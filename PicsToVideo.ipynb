{
 "cells": [
  {
   "cell_type": "markdown",
   "metadata": {},
   "source": [
    "# Create video of the images in the folder"
   ]
  },
  {
   "cell_type": "markdown",
   "metadata": {},
   "source": [
    "### Remove old variables"
   ]
  },
  {
   "cell_type": "code",
   "execution_count": 149,
   "metadata": {},
   "outputs": [
    {
     "name": "stdout",
     "output_type": "stream",
     "text": [
      "Once deleted, variables cannot be recovered. Proceed (y/[n])? y\n"
     ]
    }
   ],
   "source": [
    "# Remove old variables\n",
    "%reset"
   ]
  },
  {
   "cell_type": "markdown",
   "metadata": {},
   "source": [
    "### Import libraries"
   ]
  },
  {
   "cell_type": "code",
   "execution_count": 158,
   "metadata": {},
   "outputs": [],
   "source": [
    "import cv2\n",
    "import os"
   ]
  },
  {
   "cell_type": "markdown",
   "metadata": {},
   "source": [
    "### Set paths and read images"
   ]
  },
  {
   "cell_type": "code",
   "execution_count": 165,
   "metadata": {},
   "outputs": [],
   "source": [
    "# Set paths and video output name\n",
    "image_folder = 'data/Hyde_Scanner3'\n",
    "video_name = 'data/Hyde_Scanner3_Video.mp4'\n",
    "\n",
    "# Set video frame size (scale)\n",
    "scale=0.3\n",
    "\n",
    "# Set font size\n",
    "font_size=3\n",
    "\n",
    "# Number of pictures in second\n",
    "fps=5"
   ]
  },
  {
   "cell_type": "markdown",
   "metadata": {},
   "source": [
    "### Get image paths and set video settings"
   ]
  },
  {
   "cell_type": "code",
   "execution_count": 166,
   "metadata": {},
   "outputs": [],
   "source": [
    "# Get image names\n",
    "images = [img for img in os.listdir(image_folder) if img.endswith(\".jpg\")]\n",
    "\n",
    "# Sort image names\n",
    "images = sorted(images)\n",
    "\n",
    "# Set video frame size\n",
    "frame = cv2.imread(os.path.join(image_folder, images[0]))\n",
    "height, width, layers = frame.shape\n",
    "height=int(scale*height)\n",
    "width=int(scale*width)\n",
    "dim=(width, height)\n",
    "\n",
    "# Set video settings\n",
    "video = cv2.VideoWriter(filename=video_name, fourcc=cv2.VideoWriter_fourcc(*'XVID'), fps=fps, frameSize=dim)\n",
    "\n",
    "# Set text font\n",
    "font = cv2.FONT_HERSHEY_SIMPLEX"
   ]
  },
  {
   "cell_type": "markdown",
   "metadata": {},
   "source": [
    "### Convert pics to video and save output"
   ]
  },
  {
   "cell_type": "code",
   "execution_count": 167,
   "metadata": {},
   "outputs": [],
   "source": [
    "# Make video of images\n",
    "for image in images:\n",
    "    # Read image\n",
    "    im = cv2.imread(os.path.join(image_folder, image))\n",
    "    \n",
    "    # Resize image\n",
    "    im = cv2.resize(im, dim, interpolation = cv2.INTER_AREA)\n",
    "    \n",
    "    # Get image date from the image name\n",
    "    date = image[20:30] # For Hyde_Scanner1\n",
    "    #date = image[14:24] # For Varrio_Scanner2\n",
    "    \n",
    "    # Add date to picture upper left corner\n",
    "    cv2.putText(img=im, text=date, org=(font_size*10,font_size*30), fontFace=font, fontScale=font_size, \n",
    "                color=(255, 255, 255), thickness=font_size, lineType=cv2.LINE_AA)\n",
    "    \n",
    "    # Add pic to video\n",
    "    video.write(im)\n",
    "\n",
    "# Close windows\n",
    "cv2.destroyAllWindows()\n",
    "\n",
    "# Save output video\n",
    "video.release()"
   ]
  },
  {
   "cell_type": "code",
   "execution_count": null,
   "metadata": {},
   "outputs": [],
   "source": []
  }
 ],
 "metadata": {
  "kernelspec": {
   "display_name": "Python 3",
   "language": "python",
   "name": "python3"
  },
  "language_info": {
   "codemirror_mode": {
    "name": "ipython",
    "version": 3
   },
   "file_extension": ".py",
   "mimetype": "text/x-python",
   "name": "python",
   "nbconvert_exporter": "python",
   "pygments_lexer": "ipython3",
   "version": "3.8.5"
  }
 },
 "nbformat": 4,
 "nbformat_minor": 4
}
