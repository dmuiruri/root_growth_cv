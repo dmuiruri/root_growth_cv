{
 "cells": [
  {
   "cell_type": "markdown",
   "metadata": {},
   "source": [
    "# Create video of the images in the folder"
   ]
  },
  {
   "cell_type": "markdown",
   "metadata": {},
   "source": [
    "### Remove old variables"
   ]
  },
  {
   "cell_type": "code",
   "execution_count": 1,
   "metadata": {},
   "outputs": [],
   "source": [
    "# Remove old variables\n",
    "#%reset"
   ]
  },
  {
   "cell_type": "markdown",
   "metadata": {},
   "source": [
    "### Import libraries"
   ]
  },
  {
   "cell_type": "code",
   "execution_count": 2,
   "metadata": {},
   "outputs": [],
   "source": [
    "import cv2\n",
    "import os\n",
    "import numpy as np\n",
    "from skimage import exposure, measure\n",
    "from tqdm import tqdm"
   ]
  },
  {
   "cell_type": "markdown",
   "metadata": {},
   "source": [
    "### Set paths and read images"
   ]
  },
  {
   "cell_type": "code",
   "execution_count": 3,
   "metadata": {},
   "outputs": [],
   "source": [
    "# Set paths and video output name\n",
    "image_folder = '../data/Varrio_Scanner2_no_crop_results'\n",
    "video_name = '../data/Varrio_Scanner2_DL_Video_no_crop.mp4'\n",
    "\n",
    "# Station name for the video\n",
    "station = \"Varrio2: \"\n",
    "\n",
    "# Set video frame size (scale)\n",
    "scale=1\n",
    "\n",
    "# Set font size\n",
    "font_size=3\n",
    "\n",
    "# Number of pictures in second\n",
    "fps=5"
   ]
  },
  {
   "cell_type": "markdown",
   "metadata": {},
   "source": [
    "### Get image paths and set video settings"
   ]
  },
  {
   "cell_type": "code",
   "execution_count": 4,
   "metadata": {},
   "outputs": [],
   "source": [
    "# Get image names\n",
    "images = [img for img in os.listdir(image_folder) if img.endswith(\".jpg\")]\n",
    "\n",
    "# Sort image names\n",
    "images = sorted(images)\n",
    "\n",
    "# Set video frame size\n",
    "frame = cv2.imread(os.path.join(image_folder, images[0]))\n",
    "height, width, layers = frame.shape\n",
    "height=int(scale*height)\n",
    "width=int(scale*width)\n",
    "dim=(width, height)\n",
    "\n",
    "# Set video settings\n",
    "video = cv2.VideoWriter(filename=video_name, fourcc=cv2.VideoWriter_fourcc(*'XVID'), fps=fps, frameSize=dim)\n",
    "\n",
    "# Set text font\n",
    "font = cv2.FONT_HERSHEY_SIMPLEX"
   ]
  },
  {
   "cell_type": "markdown",
   "metadata": {},
   "source": [
    "### Remove isolated pixels"
   ]
  },
  {
   "cell_type": "code",
   "execution_count": 5,
   "metadata": {},
   "outputs": [],
   "source": [
    "# Filter noise by the pixel area\n",
    "def remove_isolated_pixels(thresh, min_size, max_size):\n",
    "    # Perform a connected component analysis on the thresholded\n",
    "    # image and remove components that have size less than thershold\n",
    "    labels = measure.label(thresh, connectivity=2, background=0)\n",
    "    mask = np.zeros(thresh.shape, dtype=\"uint8\")\n",
    "    # loop over the unique components\n",
    "    for label in np.unique(labels):\n",
    "        # if this is the background label, ignore it\n",
    "        if label == 0:\n",
    "            continue\n",
    "        # otherwise, construct the label mask and count the\n",
    "        # number of pixels \n",
    "        labelMask = np.zeros(thresh.shape, dtype=\"uint8\")\n",
    "        labelMask[labels == label] = 255\n",
    "        numPixels = cv2.countNonZero(labelMask)\n",
    "        # if the number of pixels in the component is sufficiently\n",
    "        # large, then add it to our mask of \"large blobs\"\n",
    "        if numPixels > min_size and numPixels < max_size:\n",
    "            mask = cv2.add(mask, labelMask)\n",
    "            \n",
    "    # Return cleaned mask\n",
    "    return mask"
   ]
  },
  {
   "cell_type": "markdown",
   "metadata": {},
   "source": [
    "### Convert pics to video and save output"
   ]
  },
  {
   "cell_type": "code",
   "execution_count": 6,
   "metadata": {},
   "outputs": [
    {
     "name": "stderr",
     "output_type": "stream",
     "text": [
      "100%|██████████| 184/184 [01:06<00:00,  2.76it/s]\n"
     ]
    }
   ],
   "source": [
    "# Initialize roots history image\n",
    "im_hist = np.zeros((height,width), np.uint8)\n",
    "\n",
    "# Make video of images\n",
    "for image in tqdm(images):\n",
    "    \n",
    "    # Read image\n",
    "    im_gray = cv2.imread(os.path.join(image_folder, image), 0)\n",
    "    \n",
    "    # Resize image\n",
    "    im_gray = cv2.resize(im_gray, dim, interpolation = cv2.INTER_AREA)\n",
    "    \n",
    "    # Make it black and white\n",
    "    ret, im_bw_tmp = cv2.threshold(im_gray, 100, 255, cv2.THRESH_BINARY)\n",
    "    \n",
    "    # Make areas fatter and then back to thinner (remove small holes)\n",
    "    im_bw_tmp = cv2.dilate(im_bw_tmp, None, iterations=2)\n",
    "    im_bw_tmp = cv2.erode(im_bw_tmp, None, iterations=2)\n",
    "    \n",
    "    # Remove isolated pixels\n",
    "    im_bw_tmp = remove_isolated_pixels(im_bw_tmp, min_size=75, max_size=1000)\n",
    "    \n",
    "    # Add new roots to history\n",
    "    im_hist = im_hist + im_bw_tmp\n",
    "    \n",
    "    # Copy info to im, which will be used in video writing and make it RGB\n",
    "    im = im_hist.copy()\n",
    "    im = cv2.cvtColor(im, cv2.COLOR_GRAY2RGB)\n",
    "    \n",
    "    # Get image date from the image name\n",
    "    #date = image[20:30] # For Hyde Scanners\n",
    "    date = image[14:24] # For Varrio Scanners\n",
    "    \n",
    "    # Add date to picture upper left corner\n",
    "    cv2.putText(img=im, text=station+date, org=(font_size*10,font_size*30), fontFace=font, fontScale=font_size, \n",
    "                color=(255, 255, 255), thickness=font_size, lineType=cv2.LINE_AA)\n",
    "    \n",
    "    # Add pic to video\n",
    "    video.write(im)\n",
    "\n",
    "# Close windows\n",
    "cv2.destroyAllWindows()\n",
    "\n",
    "# Save output video\n",
    "video.release()"
   ]
  },
  {
   "cell_type": "code",
   "execution_count": null,
   "metadata": {},
   "outputs": [],
   "source": []
  }
 ],
 "metadata": {
  "kernelspec": {
   "display_name": "Python 3",
   "language": "python",
   "name": "python3"
  },
  "language_info": {
   "codemirror_mode": {
    "name": "ipython",
    "version": 3
   },
   "file_extension": ".py",
   "mimetype": "text/x-python",
   "name": "python",
   "nbconvert_exporter": "python",
   "pygments_lexer": "ipython3",
   "version": "3.8.5"
  }
 },
 "nbformat": 4,
 "nbformat_minor": 4
}
