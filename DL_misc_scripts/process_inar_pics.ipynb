{
 "cells": [
  {
   "cell_type": "markdown",
   "metadata": {},
   "source": [
    "# Make hand made training image masks binary\n",
    "\n",
    "Make hand made training images to binary.\n",
    "\n",
    "In hand made masks roots are painted as red."
   ]
  },
  {
   "cell_type": "markdown",
   "metadata": {},
   "source": [
    "### Import libraries"
   ]
  },
  {
   "cell_type": "code",
   "execution_count": 56,
   "metadata": {},
   "outputs": [],
   "source": [
    "from matplotlib import pyplot as plt\n",
    "from skimage import exposure, measure\n",
    "import numpy as np\n",
    "import cv2\n",
    "import glob\n",
    "import os\n",
    "import fnmatch"
   ]
  },
  {
   "cell_type": "markdown",
   "metadata": {},
   "source": [
    "### Rename INAR images and save to folder all"
   ]
  },
  {
   "cell_type": "code",
   "execution_count": 57,
   "metadata": {},
   "outputs": [],
   "source": [
    "# Define paths\n",
    "hyde1_orig = \"inar_images/Hyde1/*.jpg\"\n",
    "hyde1_masks = \"inar_images/Hyde1/*.png\"\n",
    "\n",
    "hyde2_orig = \"inar_images/Hyde2/*.jpg\"\n",
    "hyde2_masks = \"inar_images/Hyde2/*.png\"\n",
    "\n",
    "hyde3_orig = \"inar_images/Hyde3/*.jpg\"\n",
    "hyde3_masks = \"inar_images/Hyde3/*.png\"\n",
    "\n",
    "varrio2_orig = \"inar_images/Varrio2/*.jpg\"\n",
    "varrio2_masks = \"inar_images/Varrio2/*.png\"\n",
    "\n",
    "varrio3_orig = \"inar_images/Varrio3/*.jpg\"\n",
    "varrio3_masks = \"inar_images/Varrio3/*.png\"\n",
    "\n",
    "new_path = \"inar_images/all/\"\n",
    "\n",
    "# Paths to lists\n",
    "origs = [hyde1_orig, hyde2_orig, hyde3_orig, varrio2_orig, varrio3_orig]\n",
    "masks = [hyde1_masks, hyde2_masks, hyde3_masks, varrio2_masks, varrio3_masks]"
   ]
  },
  {
   "cell_type": "markdown",
   "metadata": {},
   "source": [
    "### Read all orig files, rename and save to all folder"
   ]
  },
  {
   "cell_type": "code",
   "execution_count": 58,
   "metadata": {},
   "outputs": [],
   "source": [
    "for path in origs:\n",
    "    for file in glob.glob(path):\n",
    "        # Read image\n",
    "        im = cv2.imread(file, 1)\n",
    "        # Rename\n",
    "        name = file.split(\"/\")[-1]\n",
    "        name = name.split(\"_\")[0]\n",
    "        name = name.split(\" \")[0]\n",
    "        scanner = file.split(\"/\")[1]\n",
    "        new_name = scanner + \"_\" + name + \".jpg\"\n",
    "        # Set path\n",
    "        new_name = new_path+new_name\n",
    "        # Save to new path\n",
    "        cv2.imwrite(new_name, im)\n",
    "        "
   ]
  },
  {
   "cell_type": "markdown",
   "metadata": {},
   "source": [
    "### Read all masks files, rename and save to all folder"
   ]
  },
  {
   "cell_type": "code",
   "execution_count": 59,
   "metadata": {},
   "outputs": [
    {
     "name": "stdout",
     "output_type": "stream",
     "text": [
      "inar_images/all/Hyde1_2018.07.24-mask.jpg\n",
      "inar_images/all/Hyde1_2019.06.07-mask.jpg\n",
      "inar_images/all/Hyde1_2019.08.12-mask.jpg\n",
      "inar_images/all/Hyde1_2018.10.13-mask.jpg\n",
      "inar_images/all/Hyde1_2019.09.30-mask.jpg\n",
      "inar_images/all/Hyde1_2019.07.23-mask.jpg\n",
      "inar_images/all/Hyde1_2019.09.16-mask.jpg\n",
      "inar_images/all/Hyde1_2019.05.04-mask.jpg\n",
      "inar_images/all/Hyde1_2019.07.02-mask.jpg\n",
      "inar_images/all/Hyde1_2018.08.24-mask.jpg\n",
      "inar_images/all/Hyde1_2018.08.30-mask.jpg\n",
      "inar_images/all/Hyde1_2018.10.31-mask.jpg\n",
      "inar_images/all/Hyde1_2018.09.10-mask.jpg\n",
      "inar_images/all/Hyde2_2018.10.16-mask.jpg\n",
      "inar_images/all/Hyde2_2018.05.23-mask.jpg\n",
      "inar_images/all/Hyde2_2018.10.30-mask.jpg\n",
      "inar_images/all/Hyde2_2018.08.16-mask.jpg\n",
      "inar_images/all/Hyde2_2019.10.05-mask.jpg\n",
      "inar_images/all/Hyde2_2019.09.15-mask.jpg\n",
      "inar_images/all/Hyde2_2019.07.15-mask.jpg\n",
      "inar_images/all/Hyde2_2018.06.20-mask.jpg\n",
      "inar_images/all/Hyde2_2018.09.16-mask.jpg\n",
      "inar_images/all/Hyde2_2019.05.22-mask.jpg\n",
      "inar_images/all/Hyde2_2019.06.22-mask.jpg\n",
      "inar_images/all/Hyde2_2019.08.15-mask.jpg\n",
      "inar_images/all/Hyde2_2018.07.16-mask.jpg\n",
      "inar_images/all/Hyde3_2018.07.25-mask.jpg\n",
      "inar_images/all/Hyde3_2018.09.25-mask.jpg\n",
      "inar_images/all/Hyde3_2018.10.25-mask.jpg\n",
      "inar_images/all/Hyde3_2019.07.25-mask.jpg\n",
      "inar_images/all/Hyde3_2019.05.25-mask.jpg\n",
      "inar_images/all/Hyde3_2019.09.25-mask.jpg\n",
      "inar_images/all/Hyde3_2019.05.02-mask.jpg\n",
      "inar_images/all/Hyde3_2019.10.25-mask.jpg\n",
      "inar_images/all/Hyde3_2018.08.25-mask.jpg\n",
      "inar_images/all/Hyde3_2019.06.25-mask.jpg\n",
      "inar_images/all/Hyde3_2018.07.15-mask.jpg\n",
      "inar_images/all/Hyde3_2019.08.25-mask.jpg\n",
      "inar_images/all/Varrio2_2018.08.23-mask.jpg\n",
      "inar_images/all/Varrio2_2019.08.15-mask.jpg\n",
      "inar_images/all/Varrio2_2018.08.15-mask.jpg\n",
      "inar_images/all/Varrio2_2018.07.30-mask.jpg\n",
      "inar_images/all/Varrio2_2018.07.21-mask.jpg\n",
      "inar_images/all/Varrio2_2019.06.15-mask.jpg\n",
      "inar_images/all/Varrio2_2019.09.20-mask.jpg\n",
      "inar_images/all/Varrio2_2019.07.25-mask.jpg\n",
      "inar_images/all/Varrio2_2019.07.15-mask.jpg\n",
      "inar_images/all/Varrio2_2018.09.15-mask.jpg\n",
      "inar_images/all/Varrio2_2018.07.15-mask.jpg\n",
      "inar_images/all/Varrio2_2019.08.25-mask.jpg\n",
      "inar_images/all/Varrio3_2019.06.15-mask.jpg\n",
      "inar_images/all/Varrio3_2019.08.15-mask.jpg\n",
      "inar_images/all/Varrio3_2019.06.10-mask.jpg\n",
      "inar_images/all/Varrio3_2018.09.25-mask.jpg\n",
      "inar_images/all/Varrio3_2018.08.15-mask.jpg\n",
      "inar_images/all/Varrio3_2019.10.10-mask.jpg\n",
      "inar_images/all/Varrio3_2019.09.15-mask.jpg\n",
      "inar_images/all/Varrio3_2019.07.15-mask.jpg\n",
      "inar_images/all/Varrio3_2018.08.25-mask.jpg\n",
      "inar_images/all/Varrio3_2018.09.15-mask.jpg\n",
      "inar_images/all/Varrio3_2018.07.30-mask.jpg\n",
      "inar_images/all/Varrio3_2018.07.15-mask.jpg\n"
     ]
    }
   ],
   "source": [
    "# Read all orig files, rename and save to all folder\n",
    "for path in masks:\n",
    "    for file in glob.glob(path):\n",
    "        # Read image\n",
    "        im = cv2.imread(file, 1)\n",
    "        # Make mask fatter\n",
    "        TODO!!!\n",
    "        \n",
    "        # Rename\n",
    "        name = file.split(\"/\")[-1]\n",
    "        name = name.rsplit('.', 1)[0]\n",
    "        name = name.split(\" \")[0]\n",
    "        scanner = file.split(\"/\")[1]\n",
    "        new_name = scanner + \"_\" + name + \"-mask.jpg\"\n",
    "        # Set path\n",
    "        new_name = new_path+new_name\n",
    "        print(new_name)\n",
    "        # Save to new path\n",
    "        cv2.imwrite(new_name, im)"
   ]
  },
  {
   "cell_type": "code",
   "execution_count": null,
   "metadata": {},
   "outputs": [],
   "source": []
  }
 ],
 "metadata": {
  "kernelspec": {
   "display_name": "Python 3",
   "language": "python",
   "name": "python3"
  },
  "language_info": {
   "codemirror_mode": {
    "name": "ipython",
    "version": 3
   },
   "file_extension": ".py",
   "mimetype": "text/x-python",
   "name": "python",
   "nbconvert_exporter": "python",
   "pygments_lexer": "ipython3",
   "version": "3.8.5"
  }
 },
 "nbformat": 4,
 "nbformat_minor": 4
}
