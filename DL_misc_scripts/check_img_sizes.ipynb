{
 "cells": [
  {
   "cell_type": "code",
   "execution_count": 13,
   "metadata": {},
   "outputs": [],
   "source": [
    "from matplotlib import pyplot as plt\n",
    "from skimage import exposure, measure\n",
    "import numpy as np\n",
    "import cv2\n",
    "import glob"
   ]
  },
  {
   "cell_type": "code",
   "execution_count": 14,
   "metadata": {},
   "outputs": [],
   "source": [
    "# Counter\n",
    "i = 1\n",
    "    \n",
    "# Read all files in folder with ending \"-mask_raw.jpg\"\n",
    "for im_name in glob.glob(\"../data/train_images_and_masks/*DYY.jpg\"):\n",
    "    \n",
    "    # Read image to opencv\n",
    "    im_color = cv2.imread(im_name, 1)\n",
    "    \n",
    "    # Read images mask\n",
    "    mask_name = im_name.split('.jpg')[0] + '-mask.jpg'\n",
    "    im_mask = cv2.imread(mask_name, 1)\n",
    "    \n",
    "    # Print if image and mask dimensions do not match\n",
    "    if im_color.shape != im_mask.shape:\n",
    "        print(\"Shape mismatch found!!\")\n",
    "        print(im_name)\n",
    "        print(im_color.shape)\n",
    "        print(im_mask.shape)"
   ]
  },
  {
   "cell_type": "code",
   "execution_count": null,
   "metadata": {},
   "outputs": [],
   "source": []
  }
 ],
 "metadata": {
  "kernelspec": {
   "display_name": "Python 3",
   "language": "python",
   "name": "python3"
  },
  "language_info": {
   "codemirror_mode": {
    "name": "ipython",
    "version": 3
   },
   "file_extension": ".py",
   "mimetype": "text/x-python",
   "name": "python",
   "nbconvert_exporter": "python",
   "pygments_lexer": "ipython3",
   "version": "3.8.5"
  }
 },
 "nbformat": 4,
 "nbformat_minor": 4
}
