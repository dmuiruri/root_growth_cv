{
 "cells": [
  {
   "cell_type": "code",
   "execution_count": 3,
   "metadata": {},
   "outputs": [],
   "source": [
    "import cv2\n",
    "import glob\n",
    "import os\n",
    "from tqdm import tqdm"
   ]
  },
  {
   "cell_type": "code",
   "execution_count": 4,
   "metadata": {},
   "outputs": [
    {
     "name": "stderr",
     "output_type": "stream",
     "text": [
      "100%|██████████| 51/51 [00:11<00:00,  4.58it/s]"
     ]
    },
    {
     "name": "stdout",
     "output_type": "stream",
     "text": [
      "Image cropping and resizing ready!\n"
     ]
    },
    {
     "name": "stderr",
     "output_type": "stream",
     "text": [
      "\n"
     ]
    }
   ],
   "source": [
    "# Read ans save folder\n",
    "image_folder = \"../data/TMP\"\n",
    "\n",
    "# New image size. With this 1 pixel = 1mm, when image is A4 size.\n",
    "resize_dim = (2970, 2100)\n",
    "\n",
    "# Get image names\n",
    "images = [img for img in os.listdir(image_folder) if img.endswith(\".jpg\")]\n",
    "\n",
    "# Sort image names\n",
    "images = sorted(images)\n",
    "\n",
    "for image in tqdm(images):\n",
    "    \n",
    "    # Read image\n",
    "    im = cv2.imread(os.path.join(image_folder, image))\n",
    "    \n",
    "    # Resize image\n",
    "    im = cv2.resize(im, resize_dim, interpolation = cv2.INTER_AREA)\n",
    "    \n",
    "    # Cut borders from image\n",
    "    im = im[50:2100-50, 50:2970-50]\n",
    "    \n",
    "    # Get image name\n",
    "    im_name = os.path.join(image_folder, image)\n",
    "    \n",
    "    # Save image\n",
    "    cv2.imwrite(im_name, im)\n",
    "\n",
    "print(\"Image cropping and resizing ready!\")"
   ]
  },
  {
   "cell_type": "code",
   "execution_count": null,
   "metadata": {},
   "outputs": [],
   "source": []
  }
 ],
 "metadata": {
  "kernelspec": {
   "display_name": "Python 3",
   "language": "python",
   "name": "python3"
  },
  "language_info": {
   "codemirror_mode": {
    "name": "ipython",
    "version": 3
   },
   "file_extension": ".py",
   "mimetype": "text/x-python",
   "name": "python",
   "nbconvert_exporter": "python",
   "pygments_lexer": "ipython3",
   "version": "3.8.5"
  }
 },
 "nbformat": 4,
 "nbformat_minor": 4
}
