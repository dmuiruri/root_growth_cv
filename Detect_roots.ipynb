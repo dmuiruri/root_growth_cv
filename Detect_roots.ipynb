{
 "cells": [
  {
   "cell_type": "markdown",
   "metadata": {},
   "source": [
    "# Canny edge detection"
   ]
  },
  {
   "cell_type": "code",
   "execution_count": 530,
   "metadata": {},
   "outputs": [
    {
     "name": "stdout",
     "output_type": "stream",
     "text": [
      "Once deleted, variables cannot be recovered. Proceed (y/[n])? y\n"
     ]
    }
   ],
   "source": [
    "%reset"
   ]
  },
  {
   "cell_type": "markdown",
   "metadata": {},
   "source": [
    "#### Import libraries"
   ]
  },
  {
   "cell_type": "code",
   "execution_count": 1,
   "metadata": {},
   "outputs": [],
   "source": [
    "import numpy as np\n",
    "import cv2\n",
    "from matplotlib import pyplot as plt"
   ]
  },
  {
   "cell_type": "markdown",
   "metadata": {},
   "source": [
    "#### Read image and find edges"
   ]
  },
  {
   "cell_type": "code",
   "execution_count": 14,
   "metadata": {},
   "outputs": [],
   "source": [
    "# Read image. Flags: 1=color, 0=grayscale, -1=unchanged.\n",
    "img_color = cv2.imread('data/Hyde_scanner1/hydescan1_T001_L001_2018.09.15_033029_060_DYY.jpg', 1)\n",
    "\n",
    "# Resize image\n",
    "scale = 0.5\n",
    "height = int(img_color.shape[0] * scale)\n",
    "width = int(img_color.shape[1] * scale)\n",
    "dim = (width, height)\n",
    "img_color = cv2.resize(img_color, dim, interpolation = cv2.INTER_AREA)\n",
    "\n",
    "# Convert to gray scale\n",
    "gray = cv2.cvtColor(img_color, cv2.COLOR_BGR2GRAY)\n",
    "\n",
    "# Add contrast with CLAHE algorithm\n",
    "#clahe = cv2.createCLAHE(clipLimit=2.0, tileGridSize=(8,8))\n",
    "#gray = clahe.apply(gray)\n",
    "\n",
    "# Remove noise with Non-local Means Denoising algorithm\n",
    "#edges = cv2.fastNlMeansDenoising(edges, edges, h=10, \n",
    "#                                 templateWindowSize=7, searchWindowSize=21);\n",
    "\n",
    "# Remove noise with gaussian blur\n",
    "edges = cv2.GaussianBlur(gray,(7,7),0)\n",
    "\n",
    "# Run Canny edge detection\n",
    "#edges = cv2.Canny(gray,10,50)\n",
    " \n",
    "# Edges to binary (black and white)\n",
    "ret,edges = cv2.threshold(edges,200,255,cv2.THRESH_BINARY)\n",
    "\n",
    "# Remove isolated pixels\n",
    "edges = cv2.GaussianBlur(edges,(5,5),0)\n",
    "edges = cv2.threshold(edges, 150 , 250, cv2.THRESH_BINARY)\n",
    "edges = edges[1]"
   ]
  },
  {
   "cell_type": "markdown",
   "metadata": {},
   "source": [
    "#### Show results grayscale"
   ]
  },
  {
   "cell_type": "code",
   "execution_count": 15,
   "metadata": {},
   "outputs": [
    {
     "data": {
      "text/plain": [
       "True"
      ]
     },
     "execution_count": 15,
     "metadata": {},
     "output_type": "execute_result"
    }
   ],
   "source": [
    "# Concat gray and edge image horizontally\n",
    "vertical_concat = np.concatenate((gray, edges), axis=0)\n",
    "\n",
    "# Show image\n",
    "cv2.imshow(\"imgages\", vertical_concat)\n",
    "cv2.waitKey(0)\n",
    "cv2.destroyAllWindows()\n",
    "\n",
    "# Save images grayscale\n",
    "cv2.imwrite('roots_gray.png', vertical_concat)"
   ]
  },
  {
   "cell_type": "markdown",
   "metadata": {},
   "source": [
    "#### Show results color"
   ]
  },
  {
   "cell_type": "code",
   "execution_count": 649,
   "metadata": {},
   "outputs": [
    {
     "data": {
      "text/plain": [
       "True"
      ]
     },
     "execution_count": 649,
     "metadata": {},
     "output_type": "execute_result"
    }
   ],
   "source": [
    "# Mask roots in color image\n",
    "color_masked = cv2.bitwise_or(img_color, img_color, mask=edges)\n",
    "\n",
    "# Concat gray and edge image horizontally\n",
    "vertical_concat = np.concatenate((img_color, color_masked), axis=0)\n",
    "\n",
    "# Show image\n",
    "cv2.imshow(\"imgages\", vertical_concat)\n",
    "cv2.waitKey(0)\n",
    "cv2.destroyAllWindows()\n",
    "\n",
    "# Save images grayscale\n",
    "cv2.imwrite('roots_color.png', vertical_concat)"
   ]
  },
  {
   "cell_type": "code",
   "execution_count": null,
   "metadata": {},
   "outputs": [],
   "source": []
  }
 ],
 "metadata": {
  "kernelspec": {
   "display_name": "Python 3",
   "language": "python",
   "name": "python3"
  },
  "language_info": {
   "codemirror_mode": {
    "name": "ipython",
    "version": 3
   },
   "file_extension": ".py",
   "mimetype": "text/x-python",
   "name": "python",
   "nbconvert_exporter": "python",
   "pygments_lexer": "ipython3",
   "version": "3.8.5"
  }
 },
 "nbformat": 4,
 "nbformat_minor": 4
}
