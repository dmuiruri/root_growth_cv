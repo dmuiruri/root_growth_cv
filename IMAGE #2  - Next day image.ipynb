{
 "cells": [
  {
   "cell_type": "markdown",
   "metadata": {},
   "source": [
    "# IMAGE ANALYSIS, IMAGE #2\n",
    "\n",
    "Libary: OpenCV <br>\n",
    "Aim: identify roots from binary image, read previous day csv-file and compare IMAGE #2 roots with IMAGE #1 data <br>\n",
    "ROOT FROM IMAGE #2 IS SAME AS IMAGE #1 ROOT IF IT HAS BIGGER RADIUS AND DISTANCE BETWEEN ROOT CIRCLE'S CENTER IS UNDER 30 (CRITERIA 30 CAN BE (SHOULD BE) ADJUSTED) "
   ]
  },
  {
   "cell_type": "code",
   "execution_count": 14,
   "metadata": {},
   "outputs": [],
   "source": [
    "from matplotlib import pyplot as plt\n",
    "import numpy as np\n",
    "import cv2\n",
    "from ipywidgets import *\n",
    "from IPython.display import clear_output, display\n",
    "import math"
   ]
  },
  {
   "cell_type": "code",
   "execution_count": 15,
   "metadata": {},
   "outputs": [],
   "source": [
    "# import DETECT_ROOT funcitons \n",
    "\n",
    "from root_functions import scale_crop_gray, edge_areas_mask, change_areas_mask, light_areas_mask_color, remove_isolated_pixels\n",
    "from root_functions import add_text, grab_contours, sort_contours"
   ]
  },
  {
   "cell_type": "code",
   "execution_count": 16,
   "metadata": {},
   "outputs": [],
   "source": [
    "from ipywidgets import *\n",
    "from tkinter import Tk, filedialog\n",
    "%gui tk"
   ]
  },
  {
   "cell_type": "code",
   "execution_count": 17,
   "metadata": {},
   "outputs": [],
   "source": [
    "def open_file():\n",
    "    # Create Tk root\n",
    "    root = Tk()\n",
    "    # Hide the main window\n",
    "    root.withdraw()\n",
    "    root.call('wm', 'attributes', '.', '-topmost', True)\n",
    "\n",
    "    infiles = filedialog.askopenfilename(multiple=True)\n",
    "    return infiles\n"
   ]
  },
  {
   "cell_type": "markdown",
   "metadata": {},
   "source": [
    "### Find contours\n",
    "\n",
    "Find countours and collect contour coordinates to a dictionary for further dataframe generation <br>\n",
    "If radius value is zero or less than 5, root is not taken"
   ]
  },
  {
   "cell_type": "code",
   "execution_count": 18,
   "metadata": {},
   "outputs": [],
   "source": [
    "# FIND CONTOURS\n",
    "\n",
    "def find_contours(filename, image, mask):\n",
    "    # find the contours in the mask, then sort them from left to right\n",
    "    cnts = cv2.findContours(mask.copy(), cv2.RETR_EXTERNAL, cv2.CHAIN_APPROX_SIMPLE)\n",
    "    cnts = grab_contours(cnts)\n",
    "    \n",
    "    # Sort contours from left to right\n",
    "    cnts = sort_contours(cnts)[0]\n",
    "    print(f'Contours: {len(cnts)}')\n",
    "\n",
    "    # loop over the contours and collect coordinates to the dictionary\n",
    "    coordinates = {}\n",
    "    imageID = 0\n",
    "    for c in cnts:\n",
    "    # get the bright spot of the image\n",
    "        (x, y, w, h) = cv2.boundingRect(c)\n",
    "        ((cX, cY), radius) = cv2.minEnclosingCircle(c)\n",
    "        if int(radius) <= 0:\n",
    "            pass\n",
    "        else:\n",
    "            imageID += 1\n",
    "            # coordinates[i] = [filename.split(\"_\")[3], filename, (int(cX), int(cY)), int(radius), 'Y']\n",
    "            coordinates[imageID] = [filename[0].split('/')[-1], (int(cX), int(cY)), int(radius), 0]\n",
    "    return coordinates"
   ]
  },
  {
   "cell_type": "code",
   "execution_count": 19,
   "metadata": {},
   "outputs": [],
   "source": [
    "# draw circle around roots and and mark center of the circle\n",
    "\n",
    "def draw_circles_around(image, coordinates, color):\n",
    "    for i, v in coordinates.items():\n",
    "        cv2.circle(image, (int(v[1][0]), int(v[1][1])), v[2], color, 2)\n",
    "        cv2.circle(image, (int(v[1][0]), int(v[1][1])), 0, color, 5)"
   ]
  },
  {
   "cell_type": "code",
   "execution_count": 20,
   "metadata": {},
   "outputs": [],
   "source": [
    "# ADD TEXT TO THE IMAGE\n",
    "\n",
    "def add_Text(image, coordinates):\n",
    "    i = 0\n",
    "    for k, v in coordinates.items():\n",
    "        i += 1\n",
    "        cv2.putText(image, \"#{}\".format(i), (int(v[1][0]+50), int(v[1][1]) - 35), cv2.FONT_HERSHEY_SIMPLEX, fontScale=1, color=(0, 255, 0), thickness=2)"
   ]
  },
  {
   "cell_type": "markdown",
   "metadata": {},
   "source": [
    "### Read image #2 \n"
   ]
  },
  {
   "cell_type": "code",
   "execution_count": 21,
   "metadata": {},
   "outputs": [],
   "source": [
    "# Select image for comparison and select csv-file with initial data about image #1\n",
    "\n",
    "filename2 = open_file()\n",
    "o_file = open_file()"
   ]
  },
  {
   "cell_type": "code",
   "execution_count": 22,
   "metadata": {},
   "outputs": [
    {
     "data": {
      "text/plain": [
       "('C:/Users/OKa/Documents/_OKa/III. JAKSO/4. DS project/HS1/2018.08.24.png',)"
      ]
     },
     "execution_count": 22,
     "metadata": {},
     "output_type": "execute_result"
    },
    {
     "data": {
      "text/plain": [
       "('C:/Users/OKa/Documents/_OKa/III. JAKSO/4. DS project/outputCSV.csv',)"
      ]
     },
     "execution_count": 22,
     "metadata": {},
     "output_type": "execute_result"
    }
   ],
   "source": [
    "filename2\n",
    "o_file"
   ]
  },
  {
   "cell_type": "code",
   "execution_count": 23,
   "metadata": {},
   "outputs": [],
   "source": [
    "im2 = cv2.imread(filename2[0], 1)\n",
    "df = pd.read_csv(o_file[0], sep=';')\n",
    "    \n",
    "# Get rescaled and cropped images in color and gray\n",
    "im2, im2_gray = scale_crop_gray(im2)"
   ]
  },
  {
   "cell_type": "code",
   "execution_count": 24,
   "metadata": {},
   "outputs": [
    {
     "name": "stdout",
     "output_type": "stream",
     "text": [
      "Contours: 8\n"
     ]
    }
   ],
   "source": [
    "im2_COORDINATES = find_contours(filename2, im2, im2_gray)"
   ]
  },
  {
   "cell_type": "code",
   "execution_count": 35,
   "metadata": {},
   "outputs": [
    {
     "data": {
      "text/html": [
       "<div>\n",
       "<style scoped>\n",
       "    .dataframe tbody tr th:only-of-type {\n",
       "        vertical-align: middle;\n",
       "    }\n",
       "\n",
       "    .dataframe tbody tr th {\n",
       "        vertical-align: top;\n",
       "    }\n",
       "\n",
       "    .dataframe thead th {\n",
       "        text-align: right;\n",
       "    }\n",
       "</style>\n",
       "<table border=\"1\" class=\"dataframe\">\n",
       "  <thead>\n",
       "    <tr style=\"text-align: right;\">\n",
       "      <th></th>\n",
       "      <th>ImageID</th>\n",
       "      <th>Image</th>\n",
       "      <th>(X,Y) coordinates</th>\n",
       "      <th>Radius</th>\n",
       "      <th>Lenght change</th>\n",
       "    </tr>\n",
       "  </thead>\n",
       "  <tbody>\n",
       "    <tr>\n",
       "      <th>0</th>\n",
       "      <td>1</td>\n",
       "      <td>2018.07.24.png</td>\n",
       "      <td>(43, 51)</td>\n",
       "      <td>61</td>\n",
       "      <td>0</td>\n",
       "    </tr>\n",
       "  </tbody>\n",
       "</table>\n",
       "</div>"
      ],
      "text/plain": [
       "   ImageID           Image (X,Y) coordinates  Radius  Lenght change\n",
       "0        1  2018.07.24.png          (43, 51)      61              0"
      ]
     },
     "execution_count": 35,
     "metadata": {},
     "output_type": "execute_result"
    }
   ],
   "source": [
    "df"
   ]
  },
  {
   "cell_type": "code",
   "execution_count": 25,
   "metadata": {
    "scrolled": true
   },
   "outputs": [
    {
     "data": {
      "text/plain": [
       "{1: ['2018.08.24.png', (333, 81), 334, 0],\n",
       " 2: ['2018.08.24.png', (114, 6), 11, 0],\n",
       " 3: ['2018.08.24.png', (186, 277), 24, 0],\n",
       " 4: ['2018.08.24.png', (228, 199), 30, 0],\n",
       " 5: ['2018.08.24.png', (371, 109), 33, 0],\n",
       " 6: ['2018.08.24.png', (456, 136), 134, 0],\n",
       " 7: ['2018.08.24.png', (702, 98), 93, 0],\n",
       " 8: ['2018.08.24.png', (1055, 96), 129, 0]}"
      ]
     },
     "execution_count": 25,
     "metadata": {},
     "output_type": "execute_result"
    }
   ],
   "source": [
    "im2_COORDINATES"
   ]
  },
  {
   "cell_type": "code",
   "execution_count": 26,
   "metadata": {
    "scrolled": true
   },
   "outputs": [
    {
     "data": {
      "text/html": [
       "<div>\n",
       "<style scoped>\n",
       "    .dataframe tbody tr th:only-of-type {\n",
       "        vertical-align: middle;\n",
       "    }\n",
       "\n",
       "    .dataframe tbody tr th {\n",
       "        vertical-align: top;\n",
       "    }\n",
       "\n",
       "    .dataframe thead th {\n",
       "        text-align: right;\n",
       "    }\n",
       "</style>\n",
       "<table border=\"1\" class=\"dataframe\">\n",
       "  <thead>\n",
       "    <tr style=\"text-align: right;\">\n",
       "      <th></th>\n",
       "      <th>ImageID</th>\n",
       "      <th>Image</th>\n",
       "      <th>(X,Y) coordinates</th>\n",
       "      <th>Radius</th>\n",
       "      <th>Lenght change</th>\n",
       "    </tr>\n",
       "  </thead>\n",
       "  <tbody>\n",
       "    <tr>\n",
       "      <th>0</th>\n",
       "      <td>1</td>\n",
       "      <td>2018.07.24.png</td>\n",
       "      <td>(43, 51)</td>\n",
       "      <td>61</td>\n",
       "      <td>0</td>\n",
       "    </tr>\n",
       "  </tbody>\n",
       "</table>\n",
       "</div>"
      ],
      "text/plain": [
       "   ImageID           Image (X,Y) coordinates  Radius  Lenght change\n",
       "0        1  2018.07.24.png          (43, 51)      61              0"
      ]
     },
     "execution_count": 26,
     "metadata": {},
     "output_type": "execute_result"
    }
   ],
   "source": [
    "df"
   ]
  },
  {
   "cell_type": "code",
   "execution_count": 27,
   "metadata": {},
   "outputs": [],
   "source": [
    "# Create dataframe for image #2\n",
    "\n",
    "image2 = pd.DataFrame.from_dict(im2_COORDINATES, orient='index', columns=['Image','(X,Y) coordinates', 'Radius','Lenght change'])"
   ]
  },
  {
   "cell_type": "code",
   "execution_count": 28,
   "metadata": {},
   "outputs": [
    {
     "data": {
      "text/html": [
       "<div>\n",
       "<style scoped>\n",
       "    .dataframe tbody tr th:only-of-type {\n",
       "        vertical-align: middle;\n",
       "    }\n",
       "\n",
       "    .dataframe tbody tr th {\n",
       "        vertical-align: top;\n",
       "    }\n",
       "\n",
       "    .dataframe thead th {\n",
       "        text-align: right;\n",
       "    }\n",
       "</style>\n",
       "<table border=\"1\" class=\"dataframe\">\n",
       "  <thead>\n",
       "    <tr style=\"text-align: right;\">\n",
       "      <th></th>\n",
       "      <th>Image</th>\n",
       "      <th>(X,Y) coordinates</th>\n",
       "      <th>Radius</th>\n",
       "      <th>Lenght change</th>\n",
       "    </tr>\n",
       "  </thead>\n",
       "  <tbody>\n",
       "    <tr>\n",
       "      <th>1</th>\n",
       "      <td>2018.08.24.png</td>\n",
       "      <td>(333, 81)</td>\n",
       "      <td>334</td>\n",
       "      <td>0</td>\n",
       "    </tr>\n",
       "    <tr>\n",
       "      <th>2</th>\n",
       "      <td>2018.08.24.png</td>\n",
       "      <td>(114, 6)</td>\n",
       "      <td>11</td>\n",
       "      <td>0</td>\n",
       "    </tr>\n",
       "    <tr>\n",
       "      <th>3</th>\n",
       "      <td>2018.08.24.png</td>\n",
       "      <td>(186, 277)</td>\n",
       "      <td>24</td>\n",
       "      <td>0</td>\n",
       "    </tr>\n",
       "    <tr>\n",
       "      <th>4</th>\n",
       "      <td>2018.08.24.png</td>\n",
       "      <td>(228, 199)</td>\n",
       "      <td>30</td>\n",
       "      <td>0</td>\n",
       "    </tr>\n",
       "    <tr>\n",
       "      <th>5</th>\n",
       "      <td>2018.08.24.png</td>\n",
       "      <td>(371, 109)</td>\n",
       "      <td>33</td>\n",
       "      <td>0</td>\n",
       "    </tr>\n",
       "    <tr>\n",
       "      <th>6</th>\n",
       "      <td>2018.08.24.png</td>\n",
       "      <td>(456, 136)</td>\n",
       "      <td>134</td>\n",
       "      <td>0</td>\n",
       "    </tr>\n",
       "    <tr>\n",
       "      <th>7</th>\n",
       "      <td>2018.08.24.png</td>\n",
       "      <td>(702, 98)</td>\n",
       "      <td>93</td>\n",
       "      <td>0</td>\n",
       "    </tr>\n",
       "    <tr>\n",
       "      <th>8</th>\n",
       "      <td>2018.08.24.png</td>\n",
       "      <td>(1055, 96)</td>\n",
       "      <td>129</td>\n",
       "      <td>0</td>\n",
       "    </tr>\n",
       "  </tbody>\n",
       "</table>\n",
       "</div>"
      ],
      "text/plain": [
       "            Image (X,Y) coordinates  Radius  Lenght change\n",
       "1  2018.08.24.png         (333, 81)     334              0\n",
       "2  2018.08.24.png          (114, 6)      11              0\n",
       "3  2018.08.24.png        (186, 277)      24              0\n",
       "4  2018.08.24.png        (228, 199)      30              0\n",
       "5  2018.08.24.png        (371, 109)      33              0\n",
       "6  2018.08.24.png        (456, 136)     134              0\n",
       "7  2018.08.24.png         (702, 98)      93              0\n",
       "8  2018.08.24.png        (1055, 96)     129              0"
      ]
     },
     "execution_count": 28,
     "metadata": {},
     "output_type": "execute_result"
    }
   ],
   "source": [
    "image2"
   ]
  },
  {
   "cell_type": "code",
   "execution_count": 33,
   "metadata": {},
   "outputs": [],
   "source": [
    "# Auxiliary functions\n",
    "\n",
    "def check_Radius(r_1, r_2):\n",
    "    diff = r_2-r_1\n",
    "    if diff > -5:\n",
    "        print('Radius #1 < Radius #2')\n",
    "        return True\n",
    "    else:\n",
    "        # print('Radius #1 >= Radius #2')\n",
    "        return False\n",
    "\n",
    "# check_distance() function to calculate distance between two points    \n",
    "def check_distance(crd1, crd2):\n",
    "    distance = math.sqrt(((crd1[0]-crd2[0])**2)+((crd1[1]-crd2[1])**2))\n",
    "    if distance < 30:\n",
    "        print(f\"Distance between points: {distance} --> same root\")\n",
    "        return True\n",
    "    else:\n",
    "        print(f\"Distance between points: {distance} --> different root\")\n",
    "        return False\n",
    "\n",
    "# get image ID, coordinates and radius (IMAGE #1)\n",
    "def extract_data_DF(df):\n",
    "    return df['ImageID'], eval(df['(X,Y) coordinates']), df['Radius']\n",
    "\n",
    "# get image coordinates from dictionary (IMAGE #2)\n",
    "def extract_crd_DICT(nbr, dct):\n",
    "    return dct[nbr][1]\n",
    "\n",
    "# draw only one circle\n",
    "def draw_circles_around_ONE(image, coordinates, color):\n",
    "    cv2.circle(image, (coordinates[1][0], coordinates[1][1]), coordinates[2], color, 2)\n",
    "    cv2.circle(image, (coordinates[1][0], coordinates[1][1]), 0, color, 5)\n",
    "        \n",
    "def add_Text_ONE(image, coordinates, idRoot):\n",
    "    cv2.putText(image, \"#{}\".format(idRoot), (coordinates[1][0]+50, coordinates[1][1]-35), cv2.FONT_HERSHEY_SIMPLEX, fontScale=1, color=(0, 255, 0), thickness=2)"
   ]
  },
  {
   "cell_type": "code",
   "execution_count": 29,
   "metadata": {},
   "outputs": [],
   "source": [
    "# Create empty dataframe \n",
    "\n",
    "image = pd.DataFrame(index=image2.index, columns=image2.columns)"
   ]
  },
  {
   "cell_type": "code",
   "execution_count": 30,
   "metadata": {},
   "outputs": [
    {
     "data": {
      "text/html": [
       "<div>\n",
       "<style scoped>\n",
       "    .dataframe tbody tr th:only-of-type {\n",
       "        vertical-align: middle;\n",
       "    }\n",
       "\n",
       "    .dataframe tbody tr th {\n",
       "        vertical-align: top;\n",
       "    }\n",
       "\n",
       "    .dataframe thead th {\n",
       "        text-align: right;\n",
       "    }\n",
       "</style>\n",
       "<table border=\"1\" class=\"dataframe\">\n",
       "  <thead>\n",
       "    <tr style=\"text-align: right;\">\n",
       "      <th></th>\n",
       "      <th>Image</th>\n",
       "      <th>(X,Y) coordinates</th>\n",
       "      <th>Radius</th>\n",
       "      <th>Lenght change</th>\n",
       "    </tr>\n",
       "  </thead>\n",
       "  <tbody>\n",
       "    <tr>\n",
       "      <th>1</th>\n",
       "      <td>NaN</td>\n",
       "      <td>NaN</td>\n",
       "      <td>NaN</td>\n",
       "      <td>NaN</td>\n",
       "    </tr>\n",
       "    <tr>\n",
       "      <th>2</th>\n",
       "      <td>NaN</td>\n",
       "      <td>NaN</td>\n",
       "      <td>NaN</td>\n",
       "      <td>NaN</td>\n",
       "    </tr>\n",
       "    <tr>\n",
       "      <th>3</th>\n",
       "      <td>NaN</td>\n",
       "      <td>NaN</td>\n",
       "      <td>NaN</td>\n",
       "      <td>NaN</td>\n",
       "    </tr>\n",
       "    <tr>\n",
       "      <th>4</th>\n",
       "      <td>NaN</td>\n",
       "      <td>NaN</td>\n",
       "      <td>NaN</td>\n",
       "      <td>NaN</td>\n",
       "    </tr>\n",
       "    <tr>\n",
       "      <th>5</th>\n",
       "      <td>NaN</td>\n",
       "      <td>NaN</td>\n",
       "      <td>NaN</td>\n",
       "      <td>NaN</td>\n",
       "    </tr>\n",
       "    <tr>\n",
       "      <th>6</th>\n",
       "      <td>NaN</td>\n",
       "      <td>NaN</td>\n",
       "      <td>NaN</td>\n",
       "      <td>NaN</td>\n",
       "    </tr>\n",
       "    <tr>\n",
       "      <th>7</th>\n",
       "      <td>NaN</td>\n",
       "      <td>NaN</td>\n",
       "      <td>NaN</td>\n",
       "      <td>NaN</td>\n",
       "    </tr>\n",
       "    <tr>\n",
       "      <th>8</th>\n",
       "      <td>NaN</td>\n",
       "      <td>NaN</td>\n",
       "      <td>NaN</td>\n",
       "      <td>NaN</td>\n",
       "    </tr>\n",
       "  </tbody>\n",
       "</table>\n",
       "</div>"
      ],
      "text/plain": [
       "  Image (X,Y) coordinates Radius Lenght change\n",
       "1   NaN               NaN    NaN           NaN\n",
       "2   NaN               NaN    NaN           NaN\n",
       "3   NaN               NaN    NaN           NaN\n",
       "4   NaN               NaN    NaN           NaN\n",
       "5   NaN               NaN    NaN           NaN\n",
       "6   NaN               NaN    NaN           NaN\n",
       "7   NaN               NaN    NaN           NaN\n",
       "8   NaN               NaN    NaN           NaN"
      ]
     },
     "execution_count": 30,
     "metadata": {},
     "output_type": "execute_result"
    }
   ],
   "source": [
    "image"
   ]
  },
  {
   "cell_type": "code",
   "execution_count": 31,
   "metadata": {},
   "outputs": [],
   "source": [
    "def checkNextDayImage(im1_crd, im2_crd, im1_r, im2_r, im1_id, image, image1, image2):\n",
    "    # Check if radius is bigger or not and get differentce (= root growing change)\n",
    "    # if status is True --> same root by radious\n",
    "    diff = im2_r - im1_r\n",
    "    if check_Radius(im1_r, im2_r) and check_distance(im1_crd, im2_crd):\n",
    "        print(\"True\")\n",
    "        image.loc[im1_id, :] = image2.loc[im1_id, :]\n",
    "        image.loc[im1_id, 'Lenght change'] = diff\n",
    "    else:\n",
    "        print('False')\n"
   ]
  },
  {
   "cell_type": "code",
   "execution_count": 36,
   "metadata": {},
   "outputs": [
    {
     "name": "stdout",
     "output_type": "stream",
     "text": [
      "Image #2: ID 1, coordinates (333, 81) and radius 334\n",
      "Image #1: ID 1, coordinates (43, 51) and radius 61\n",
      "Radius #1 < Radius #2\n",
      "Distance between points: 291.547594742265 --> different root\n",
      "False\n",
      "Image #2: ID 2, coordinates (114, 6) and radius 11\n",
      "Image #1: ID 1, coordinates (43, 51) and radius 61\n",
      "False\n",
      "Image #2: ID 3, coordinates (186, 277) and radius 24\n",
      "Image #1: ID 1, coordinates (43, 51) and radius 61\n",
      "False\n",
      "Image #2: ID 4, coordinates (228, 199) and radius 30\n",
      "Image #1: ID 1, coordinates (43, 51) and radius 61\n",
      "False\n",
      "Image #2: ID 5, coordinates (371, 109) and radius 33\n",
      "Image #1: ID 1, coordinates (43, 51) and radius 61\n",
      "False\n",
      "Image #2: ID 6, coordinates (456, 136) and radius 134\n",
      "Image #1: ID 1, coordinates (43, 51) and radius 61\n",
      "Radius #1 < Radius #2\n",
      "Distance between points: 421.6562581060549 --> different root\n",
      "False\n",
      "Image #2: ID 7, coordinates (702, 98) and radius 93\n",
      "Image #1: ID 1, coordinates (43, 51) and radius 61\n",
      "Radius #1 < Radius #2\n",
      "Distance between points: 660.6738983795258 --> different root\n",
      "False\n",
      "Image #2: ID 8, coordinates (1055, 96) and radius 129\n",
      "Image #1: ID 1, coordinates (43, 51) and radius 61\n",
      "Radius #1 < Radius #2\n",
      "Distance between points: 1013.0 --> different root\n",
      "False\n"
     ]
    }
   ],
   "source": [
    "for i in range(len(im2_COORDINATES)):\n",
    "    im2_id = i+1\n",
    "    im2_crd = im2_COORDINATES[i+1][1]\n",
    "    im2_r = im2_COORDINATES[i+1][2]\n",
    "    print(f'Image #2: ID {im2_id}, coordinates {im2_crd} and radius {im2_r}')\n",
    "    for j in range(df.shape[0]): \n",
    "        # imX_id is root number, imX_crd are root coordinations and imX_r is root radius\n",
    "        (im1_id, im1_crd,im1_r) = extract_data_DF(df.iloc[j,:])\n",
    "        print(f'Image #1: ID {im1_id}, coordinates {im1_crd} and radius {im1_r}')\n",
    "        checkNextDayImage(im1_crd, im2_crd, im1_r, im2_r, im1_id, image, df, image2)"
   ]
  },
  {
   "cell_type": "code",
   "execution_count": 37,
   "metadata": {},
   "outputs": [
    {
     "data": {
      "text/html": [
       "<div>\n",
       "<style scoped>\n",
       "    .dataframe tbody tr th:only-of-type {\n",
       "        vertical-align: middle;\n",
       "    }\n",
       "\n",
       "    .dataframe tbody tr th {\n",
       "        vertical-align: top;\n",
       "    }\n",
       "\n",
       "    .dataframe thead th {\n",
       "        text-align: right;\n",
       "    }\n",
       "</style>\n",
       "<table border=\"1\" class=\"dataframe\">\n",
       "  <thead>\n",
       "    <tr style=\"text-align: right;\">\n",
       "      <th></th>\n",
       "      <th>Image</th>\n",
       "      <th>(X,Y) coordinates</th>\n",
       "      <th>Radius</th>\n",
       "      <th>Lenght change</th>\n",
       "    </tr>\n",
       "  </thead>\n",
       "  <tbody>\n",
       "    <tr>\n",
       "      <th>1</th>\n",
       "      <td>NaN</td>\n",
       "      <td>NaN</td>\n",
       "      <td>NaN</td>\n",
       "      <td>NaN</td>\n",
       "    </tr>\n",
       "    <tr>\n",
       "      <th>2</th>\n",
       "      <td>NaN</td>\n",
       "      <td>NaN</td>\n",
       "      <td>NaN</td>\n",
       "      <td>NaN</td>\n",
       "    </tr>\n",
       "    <tr>\n",
       "      <th>3</th>\n",
       "      <td>NaN</td>\n",
       "      <td>NaN</td>\n",
       "      <td>NaN</td>\n",
       "      <td>NaN</td>\n",
       "    </tr>\n",
       "    <tr>\n",
       "      <th>4</th>\n",
       "      <td>NaN</td>\n",
       "      <td>NaN</td>\n",
       "      <td>NaN</td>\n",
       "      <td>NaN</td>\n",
       "    </tr>\n",
       "    <tr>\n",
       "      <th>5</th>\n",
       "      <td>NaN</td>\n",
       "      <td>NaN</td>\n",
       "      <td>NaN</td>\n",
       "      <td>NaN</td>\n",
       "    </tr>\n",
       "    <tr>\n",
       "      <th>6</th>\n",
       "      <td>NaN</td>\n",
       "      <td>NaN</td>\n",
       "      <td>NaN</td>\n",
       "      <td>NaN</td>\n",
       "    </tr>\n",
       "    <tr>\n",
       "      <th>7</th>\n",
       "      <td>NaN</td>\n",
       "      <td>NaN</td>\n",
       "      <td>NaN</td>\n",
       "      <td>NaN</td>\n",
       "    </tr>\n",
       "    <tr>\n",
       "      <th>8</th>\n",
       "      <td>NaN</td>\n",
       "      <td>NaN</td>\n",
       "      <td>NaN</td>\n",
       "      <td>NaN</td>\n",
       "    </tr>\n",
       "  </tbody>\n",
       "</table>\n",
       "</div>"
      ],
      "text/plain": [
       "  Image (X,Y) coordinates Radius Lenght change\n",
       "1   NaN               NaN    NaN           NaN\n",
       "2   NaN               NaN    NaN           NaN\n",
       "3   NaN               NaN    NaN           NaN\n",
       "4   NaN               NaN    NaN           NaN\n",
       "5   NaN               NaN    NaN           NaN\n",
       "6   NaN               NaN    NaN           NaN\n",
       "7   NaN               NaN    NaN           NaN\n",
       "8   NaN               NaN    NaN           NaN"
      ]
     },
     "execution_count": 37,
     "metadata": {},
     "output_type": "execute_result"
    }
   ],
   "source": [
    "image"
   ]
  },
  {
   "cell_type": "code",
   "execution_count": 38,
   "metadata": {},
   "outputs": [
    {
     "data": {
      "text/html": [
       "<div>\n",
       "<style scoped>\n",
       "    .dataframe tbody tr th:only-of-type {\n",
       "        vertical-align: middle;\n",
       "    }\n",
       "\n",
       "    .dataframe tbody tr th {\n",
       "        vertical-align: top;\n",
       "    }\n",
       "\n",
       "    .dataframe thead th {\n",
       "        text-align: right;\n",
       "    }\n",
       "</style>\n",
       "<table border=\"1\" class=\"dataframe\">\n",
       "  <thead>\n",
       "    <tr style=\"text-align: right;\">\n",
       "      <th></th>\n",
       "      <th>Image</th>\n",
       "      <th>(X,Y) coordinates</th>\n",
       "      <th>Radius</th>\n",
       "      <th>Lenght change</th>\n",
       "    </tr>\n",
       "  </thead>\n",
       "  <tbody>\n",
       "  </tbody>\n",
       "</table>\n",
       "</div>"
      ],
      "text/plain": [
       "Empty DataFrame\n",
       "Columns: [Image, (X,Y) coordinates, Radius, Lenght change]\n",
       "Index: []"
      ]
     },
     "execution_count": 38,
     "metadata": {},
     "output_type": "execute_result"
    }
   ],
   "source": [
    "# drop empty rows\n",
    "\n",
    "image.dropna(how='all')"
   ]
  },
  {
   "cell_type": "code",
   "execution_count": null,
   "metadata": {},
   "outputs": [],
   "source": []
  },
  {
   "cell_type": "code",
   "execution_count": null,
   "metadata": {},
   "outputs": [],
   "source": []
  },
  {
   "cell_type": "code",
   "execution_count": null,
   "metadata": {},
   "outputs": [],
   "source": []
  },
  {
   "cell_type": "code",
   "execution_count": null,
   "metadata": {},
   "outputs": [],
   "source": []
  },
  {
   "cell_type": "code",
   "execution_count": null,
   "metadata": {},
   "outputs": [],
   "source": []
  },
  {
   "cell_type": "code",
   "execution_count": null,
   "metadata": {},
   "outputs": [],
   "source": []
  },
  {
   "cell_type": "code",
   "execution_count": null,
   "metadata": {},
   "outputs": [],
   "source": []
  },
  {
   "cell_type": "code",
   "execution_count": null,
   "metadata": {},
   "outputs": [],
   "source": []
  }
 ],
 "metadata": {
  "kernelspec": {
   "display_name": "Python 3",
   "language": "python",
   "name": "python3"
  },
  "language_info": {
   "codemirror_mode": {
    "name": "ipython",
    "version": 3
   },
   "file_extension": ".py",
   "mimetype": "text/x-python",
   "name": "python",
   "nbconvert_exporter": "python",
   "pygments_lexer": "ipython3",
   "version": "3.6.7"
  }
 },
 "nbformat": 4,
 "nbformat_minor": 2
}
