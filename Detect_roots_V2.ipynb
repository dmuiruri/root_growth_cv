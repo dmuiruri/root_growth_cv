{
 "cells": [
  {
   "cell_type": "markdown",
   "metadata": {},
   "source": [
    "# Root detection\n",
    "\n",
    "In this notebook I will test different masking techniques to make image segmentation so that roots can be separated from the background."
   ]
  },
  {
   "cell_type": "markdown",
   "metadata": {},
   "source": [
    "### Reset notebook"
   ]
  },
  {
   "cell_type": "code",
   "execution_count": 1,
   "metadata": {},
   "outputs": [],
   "source": [
    "#%reset"
   ]
  },
  {
   "cell_type": "markdown",
   "metadata": {},
   "source": [
    "### Import libraries"
   ]
  },
  {
   "cell_type": "code",
   "execution_count": 2,
   "metadata": {},
   "outputs": [],
   "source": [
    "from matplotlib import pyplot as plt\n",
    "from skimage import exposure\n",
    "import numpy as np\n",
    "import cv2"
   ]
  },
  {
   "cell_type": "markdown",
   "metadata": {},
   "source": [
    "### Read image, resize and turn to gray scale"
   ]
  },
  {
   "cell_type": "code",
   "execution_count": 3,
   "metadata": {},
   "outputs": [],
   "source": [
    "def scale_crop_gray(im):\n",
    "    # Set image size to 2338x1653 (Scale = 0.5). Orig size 4676 × 3306.\n",
    "    # We must use fixed size, because we can not know size of \n",
    "    # the pics taken in the future and size is used in parameter tuning.\n",
    "    width = int(2338)\n",
    "    height = int(1653)\n",
    "    dim = (width, height)\n",
    "    im = cv2.resize(im, dim, interpolation = cv2.INTER_AREA)\n",
    "    \n",
    "    # Cut out 50 border pixels from each side\n",
    "    im = im[50:, 50:]\n",
    "    im = im[:-50, :-50]\n",
    "    \n",
    "    # Convert the image to grayscale\n",
    "    im_gray = cv2.cvtColor(im, cv2.COLOR_BGR2GRAY)\n",
    "    \n",
    "    # Return color and grayscale images\n",
    "    return im, im_gray"
   ]
  },
  {
   "cell_type": "markdown",
   "metadata": {},
   "source": [
    "### Read images"
   ]
  },
  {
   "cell_type": "code",
   "execution_count": 4,
   "metadata": {},
   "outputs": [],
   "source": [
    "# Read color image\n",
    "#image = cv2.imread('data/Hyde_scanner1/hydescan1_T001_L001_2018.09.15_033029_060_DYY.jpg', 1)\n",
    "\n",
    "# Hyde scanner1 example\n",
    "#im1 = cv2.imread('data/Hyde_scanner1/hydescan1_T001_L001_2018.08.16_033029_030_DYY.jpg', 1)\n",
    "#im2 = cv2.imread('data/Hyde_scanner1/hydescan1_T001_L001_2018.08.23_033029_037_DYY.jpg', 1)\n",
    "\n",
    "# Varrio_Scanner2 example\n",
    "im1 = cv2.imread('data/Varrio_Scanner2/VS2_T001_L001_2019.07.24_090749_132_DYY.jpg', 1)\n",
    "im2 = cv2.imread('data/Varrio_Scanner2/VS2_T001_L001_2019.07.25_091204_133_DYY.jpg', 1)\n",
    "\n",
    "# Get rescaled and cropped images in color and gray\n",
    "im1, im1_gray = scale_crop_gray(im1)\n",
    "im2, im2_gray = scale_crop_gray(im2)"
   ]
  },
  {
   "cell_type": "markdown",
   "metadata": {},
   "source": [
    "### Make light areas mask\n",
    "\n",
    "Filtering based on color\n",
    "\n",
    "Input: one grayscale image"
   ]
  },
  {
   "cell_type": "code",
   "execution_count": 5,
   "metadata": {},
   "outputs": [],
   "source": [
    "def light_areas_mask(im_gray):\n",
    "    # Remove noise with gaussian blur (3, 3 works)\n",
    "    im_blur = cv2.GaussianBlur(im_gray,(3,3),0)\n",
    "\n",
    "    # Edges to binary (black and white) (180 and 250)\n",
    "    ret, im_bin = cv2.threshold(im_blur,180,256,cv2.THRESH_BINARY)\n",
    "\n",
    "    # Remove isolated pixels\n",
    "    im_blur = cv2.GaussianBlur(im_bin,(5,5),0)\n",
    "    im_bin = cv2.threshold(im_blur, 150 , 250, cv2.THRESH_BINARY)\n",
    "    im_bin = im_bin[1]\n",
    "\n",
    "    # Remove isolated pixels\n",
    "    # \"Make areas thinner\"\n",
    "    im_bin = cv2.erode(im_bin, None, iterations=1)\n",
    "    # \"Make areas fatter\"\n",
    "    im_bin = cv2.dilate(im_bin, None, iterations=1)\n",
    "\n",
    "    # Return results\n",
    "    return im_bin"
   ]
  },
  {
   "cell_type": "markdown",
   "metadata": {},
   "source": [
    "### Make edge areas mask\n",
    "\n",
    "Filtering based on edges\n",
    "\n",
    "Input: one grayscale image"
   ]
  },
  {
   "cell_type": "code",
   "execution_count": 6,
   "metadata": {},
   "outputs": [],
   "source": [
    "def edge_areas_mask(im_gray):\n",
    "    #thresh = cv2.adaptiveThreshold(image, 255, cv2.ADAPTIVE_THRESH_MEAN_C, \n",
    "    #                               cv2.THRESH_BINARY_INV, 11, 7)\n",
    "    \n",
    "    # Blur with bilateralFilter. BilateralFilter does not blur edges.\n",
    "    blur = cv2.bilateralFilter(im_gray, 50, 15, 10)\n",
    "    \n",
    "    # Remove noise with gaussian blur\n",
    "    blur = cv2.GaussianBlur(blur,(5,5),0)\n",
    "    \n",
    "    # Find edges with canny edge detection\n",
    "    edges = cv2.Canny(blur, 50, 250)\n",
    "    \n",
    "    # \"Make areas fatter\" to fill missing pixels in root edges\n",
    "    edges = cv2.dilate(edges, None, iterations=2)\n",
    "    \n",
    "    # Get contrours\n",
    "    cnts, hierarchy = cv2.findContours(edges, cv2.RETR_TREE, cv2.CHAIN_APPROX_SIMPLE)\n",
    "    \n",
    "    # Loop over our contours. Remove controus with area less than xxx.\n",
    "    contours=[]\n",
    "    for c in cnts:\n",
    "        size = cv2.contourArea(c)\n",
    "        if size > 20:\n",
    "            contours.append(c)\n",
    "    \n",
    "    # Make empty picture\n",
    "    empty = np.zeros(im_gray.shape, dtype = \"uint8\")\n",
    "    \n",
    "    # Save contours to empty image\n",
    "    contours = cv2.drawContours(empty, contours, -1, 255, -1)\n",
    "    \n",
    "    # \"Make areas fatter\" to fill missing pixels in root edges\n",
    "    contours = cv2.dilate(contours, None, iterations=2)\n",
    "    \n",
    "    #Return contour areas\n",
    "    return contours"
   ]
  },
  {
   "cell_type": "markdown",
   "metadata": {},
   "source": [
    "### Make mask by minusing pixel values in two images\n",
    "\n",
    "Filtering based on difference between two images\n",
    "\n",
    "Input: two grayscale images"
   ]
  },
  {
   "cell_type": "code",
   "execution_count": 7,
   "metadata": {},
   "outputs": [],
   "source": [
    "def change_areas_mask(im1_gray, im2_gray):\n",
    "    # Remove noise with gaussian blur\n",
    "    im1_gray = cv2.GaussianBlur(im1_gray,(25,25),0)\n",
    "    im2_gray = cv2.GaussianBlur(im2_gray,(25,25),0)\n",
    "    \n",
    "    # Calculate change\n",
    "    change = im2_gray-im1_gray\n",
    "    \n",
    "    # Threshold and turn to binary\n",
    "    ret, change = cv2.threshold(change,40,256,cv2.THRESH_BINARY)\n",
    "    \n",
    "    # Remove isolated pixels\n",
    "    # \"Make areas thinner\"\n",
    "    #change = cv2.erode(change, None, iterations=5)\n",
    "    # \"Make areas fatter\"\n",
    "    #change = cv2.dilate(change, None, iterations=5)\n",
    "    \n",
    "    # Return results\n",
    "    return change"
   ]
  },
  {
   "cell_type": "markdown",
   "metadata": {},
   "source": [
    "### Add text to image"
   ]
  },
  {
   "cell_type": "code",
   "execution_count": 8,
   "metadata": {},
   "outputs": [],
   "source": [
    "def add_text(im, text):\n",
    "    # Set text font\n",
    "    font = cv2.FONT_HERSHEY_SIMPLEX\n",
    "\n",
    "    # Add text\n",
    "    cv2.putText(img=im, text=text, org=(50,1500), fontFace=font, fontScale=3, \n",
    "                color=(255, 255, 255), thickness=3, lineType=cv2.LINE_AA)\n",
    "    \n",
    "    # Return result\n",
    "    return im"
   ]
  },
  {
   "cell_type": "markdown",
   "metadata": {},
   "source": [
    "### Print light and edge areas as binary masks"
   ]
  },
  {
   "cell_type": "code",
   "execution_count": 9,
   "metadata": {},
   "outputs": [
    {
     "data": {
      "text/plain": [
       "True"
      ]
     },
     "execution_count": 9,
     "metadata": {},
     "output_type": "execute_result"
    }
   ],
   "source": [
    "# Get areas\n",
    "light_areas = light_areas_mask(im2_gray)\n",
    "edge_areas = edge_areas_mask(im2_gray)\n",
    "change_areas = change_areas_mask(im1_gray, im2_gray)\n",
    "\n",
    "# Make supermask. Combine all masks.\n",
    "combined_areas = light_areas & edge_areas & change_areas\n",
    "\n",
    "# Concat gray, light_areas, edge_areas and change_areas to one image\n",
    "concat1 = np.concatenate((im1_gray, light_areas), axis=0)\n",
    "concat2 = np.concatenate((edge_areas, change_areas), axis=0)\n",
    "concat3 = np.concatenate((concat1, concat2), axis=0)\n",
    "concat4 = np.concatenate((concat3, combined_areas), axis=0)\n",
    "\n",
    "# Save image\n",
    "cv2.imwrite('Detect_roots_V2.png', concat4)"
   ]
  },
  {
   "cell_type": "markdown",
   "metadata": {},
   "source": [
    "### Print images with colors"
   ]
  },
  {
   "cell_type": "code",
   "execution_count": 10,
   "metadata": {},
   "outputs": [
    {
     "data": {
      "text/plain": [
       "True"
      ]
     },
     "execution_count": 10,
     "metadata": {},
     "output_type": "execute_result"
    }
   ],
   "source": [
    "# Mask orig color image with mask (Add colors to images)\n",
    "light_areas = cv2.bitwise_or(im2, im2, mask=light_areas)\n",
    "edge_areas = cv2.bitwise_or(im2, im2, mask=edge_areas)\n",
    "change_areas = cv2.bitwise_or(im2, im2, mask=change_areas)\n",
    "combined_areas = cv2.bitwise_or(im2, im2, mask=combined_areas)\n",
    "\n",
    "# Add names to images\n",
    "im2 = add_text(im2, \"Original image\")\n",
    "light_areas = add_text(light_areas, \"Color filter\")\n",
    "edge_areas = add_text(edge_areas, \"Edge filter\")\n",
    "change_areas = add_text(change_areas, \"Change filter (pic2-pic1)\")\n",
    "combined_areas = add_text(combined_areas, \"All filters combined\")\n",
    "\n",
    "# Concat original, light_areas, edge_areas and change_areas to one image\n",
    "concat1 = np.concatenate((im2, light_areas), axis=0)\n",
    "concat2 = np.concatenate((edge_areas, change_areas), axis=0)\n",
    "concat3 = np.concatenate((concat1, concat2), axis=0)\n",
    "concat4 = np.concatenate((concat3, combined_areas), axis=0)\n",
    "\n",
    "# Show image\n",
    "#cv2.imshow(\"imgages\", vertical_concat)\n",
    "#cv2.waitKey(0)\n",
    "#cv2.destroyAllWindows()\n",
    "\n",
    "# Save images grayscale\n",
    "cv2.imwrite('Detect_roots_V2_color.png', concat4)"
   ]
  },
  {
   "cell_type": "code",
   "execution_count": null,
   "metadata": {},
   "outputs": [],
   "source": []
  }
 ],
 "metadata": {
  "kernelspec": {
   "display_name": "Python 3",
   "language": "python",
   "name": "python3"
  },
  "language_info": {
   "codemirror_mode": {
    "name": "ipython",
    "version": 3
   },
   "file_extension": ".py",
   "mimetype": "text/x-python",
   "name": "python",
   "nbconvert_exporter": "python",
   "pygments_lexer": "ipython3",
   "version": "3.8.5"
  }
 },
 "nbformat": 4,
 "nbformat_minor": 4
}
