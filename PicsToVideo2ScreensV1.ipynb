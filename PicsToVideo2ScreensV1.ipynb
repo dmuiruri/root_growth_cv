{
 "cells": [
  {
   "cell_type": "markdown",
   "metadata": {},
   "source": [
    "# Create video of the images in the folder"
   ]
  },
  {
   "cell_type": "markdown",
   "metadata": {},
   "source": [
    "### Remove old variables (just in case)"
   ]
  },
  {
   "cell_type": "code",
   "execution_count": 1,
   "metadata": {},
   "outputs": [],
   "source": [
    "# Remove old variables\n",
    "#%reset"
   ]
  },
  {
   "cell_type": "markdown",
   "metadata": {},
   "source": [
    "### Import libraries"
   ]
  },
  {
   "cell_type": "code",
   "execution_count": 2,
   "metadata": {},
   "outputs": [],
   "source": [
    "import cv2\n",
    "import os\n",
    "import numpy as np"
   ]
  },
  {
   "cell_type": "markdown",
   "metadata": {},
   "source": [
    "### Set paths and read images"
   ]
  },
  {
   "cell_type": "code",
   "execution_count": 3,
   "metadata": {},
   "outputs": [],
   "source": [
    "# Set paths and video output name\n",
    "image_folder = 'data/Varrio_Scanner3'\n",
    "video_name = 'video_Varrio3.mp4'\n",
    "\n",
    "# Set video frame size (scale)\n",
    "scale=0.5\n",
    "\n",
    "# Set font size\n",
    "font_size=3\n",
    "\n",
    "# Number of pictures in second\n",
    "fps=3"
   ]
  },
  {
   "cell_type": "markdown",
   "metadata": {},
   "source": [
    "### Get image paths and set video settings"
   ]
  },
  {
   "cell_type": "code",
   "execution_count": 4,
   "metadata": {},
   "outputs": [],
   "source": [
    "# Get image names\n",
    "images = [img for img in os.listdir(image_folder) if img.endswith(\".jpg\")]\n",
    "\n",
    "# Sort image names\n",
    "images = sorted(images)\n",
    "\n",
    "# Set video frame size\n",
    "frame = cv2.imread(os.path.join(image_folder, images[0]))\n",
    "height, width, layers = frame.shape\n",
    "height=int(scale*height)\n",
    "width=int(scale*width)\n",
    "dim_vid=(width, height*2)\n",
    "dim_pic=(width, height)\n",
    "\n",
    "# Set video settings\n",
    "video = cv2.VideoWriter(filename=video_name, fourcc=cv2.VideoWriter_fourcc(*'XVID'), fps=fps, frameSize=dim_vid)\n",
    "\n",
    "# Set text font\n",
    "font = cv2.FONT_HERSHEY_SIMPLEX"
   ]
  },
  {
   "cell_type": "markdown",
   "metadata": {},
   "source": [
    "### Create only root images"
   ]
  },
  {
   "cell_type": "code",
   "execution_count": 5,
   "metadata": {},
   "outputs": [],
   "source": [
    "# Detect roots from image\n",
    "def get_roots(img_color):\n",
    "    \n",
    "    # Convert to gray scale\n",
    "    gray = cv2.cvtColor(img_color, cv2.COLOR_BGR2GRAY)\n",
    "\n",
    "    # Remove noise with gaussian blur (3, 3 works)\n",
    "    edges = cv2.GaussianBlur(gray,(3,3),0)\n",
    "\n",
    "    # Edges to binary (black and white) (180 and 250)\n",
    "    ret,edges = cv2.threshold(edges,180,256,cv2.THRESH_BINARY)\n",
    "\n",
    "    # Remove isolated pixels\n",
    "    edges = cv2.GaussianBlur(edges,(5,5),0)\n",
    "    edges = cv2.threshold(edges, 150 , 250, cv2.THRESH_BINARY)\n",
    "    edges = edges[1]\n",
    "\n",
    "    # Remove isolated pixels\n",
    "    edges = cv2.erode(edges, None, iterations=1)\n",
    "    edges = cv2.dilate(edges, None, iterations=1)\n",
    "\n",
    "    # Return results\n",
    "    return edges"
   ]
  },
  {
   "cell_type": "markdown",
   "metadata": {},
   "source": [
    "### Convert pics to video and save output"
   ]
  },
  {
   "cell_type": "code",
   "execution_count": 6,
   "metadata": {},
   "outputs": [],
   "source": [
    "# Initialize roots locations\n",
    "roots=np.zeros((height,width), np.uint8)\n",
    "\n",
    "# Make video of images\n",
    "for image in images:\n",
    "    \n",
    "    # Read image\n",
    "    im = cv2.imread(os.path.join(image_folder, image))\n",
    "    \n",
    "    # Resize image\n",
    "    im = cv2.resize(im, dim_pic,interpolation = cv2.INTER_AREA)\n",
    "    \n",
    "    # Get new root location pixels\n",
    "    new_roots=get_roots(im)\n",
    "    \n",
    "    # Add new root locations pixels to previous root locations pixels\n",
    "    roots = new_roots+roots\n",
    "    \n",
    "    # Mask root locations to image (get colors to root pixels)\n",
    "    im_masked = cv2.bitwise_or(im, im, mask=roots)\n",
    "    \n",
    "    # Concat original image and roots image vertically\n",
    "    im = np.concatenate((im, im_masked), axis=0)\n",
    "    \n",
    "    # Get image date from the image name\n",
    "    # Date is in different location for Hyde and Varrio\n",
    "    #date = image[20:30] # For Hyde Scanners\n",
    "    date = image[14:24] # For Varrio Scanners\n",
    "    \n",
    "    # Add date to upper left corner\n",
    "    cv2.putText(img=im, text=date, org=(font_size*10,font_size*30), fontFace=font, fontScale=font_size, \n",
    "                color=(255, 255, 255), thickness=font_size, lineType=cv2.LINE_AA)\n",
    "    \n",
    "    # Add frame to video\n",
    "    video.write(im)\n",
    "     \n",
    "# Close windows\n",
    "cv2.destroyAllWindows() \n",
    "\n",
    "# Save output video\n",
    "video.release()"
   ]
  },
  {
   "cell_type": "code",
   "execution_count": null,
   "metadata": {},
   "outputs": [],
   "source": []
  }
 ],
 "metadata": {
  "kernelspec": {
   "display_name": "Python 3",
   "language": "python",
   "name": "python3"
  },
  "language_info": {
   "codemirror_mode": {
    "name": "ipython",
    "version": 3
   },
   "file_extension": ".py",
   "mimetype": "text/x-python",
   "name": "python",
   "nbconvert_exporter": "python",
   "pygments_lexer": "ipython3",
   "version": "3.8.5"
  }
 },
 "nbformat": 4,
 "nbformat_minor": 4
}
