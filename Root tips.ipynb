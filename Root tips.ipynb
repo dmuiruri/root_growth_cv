{
 "cells": [
  {
   "cell_type": "code",
   "execution_count": 1,
   "metadata": {},
   "outputs": [],
   "source": [
    "import numpy as np\n",
    "import cv2 as cv2\n",
    "from matplotlib import pyplot as plt"
   ]
  },
  {
   "cell_type": "markdown",
   "metadata": {},
   "source": [
    "#### Read image and find edges"
   ]
  },
  {
   "cell_type": "code",
   "execution_count": 33,
   "metadata": {},
   "outputs": [
    {
     "data": {
      "text/plain": [
       "-1"
      ]
     },
     "execution_count": 33,
     "metadata": {},
     "output_type": "execute_result"
    }
   ],
   "source": [
    "# Read image. Flags: 1=color, 0=grayscale, -1=unchanged.\n",
    "img_color = cv2.imread('test1.jpg', 1)\n",
    "\n",
    "# Resize image\n",
    "scale = 0.5\n",
    "height = int(img_color.shape[0] * scale)\n",
    "width = int(img_color.shape[1] * scale)\n",
    "dim = (width, height)\n",
    "img_color = cv2.resize(img_color, dim, interpolation = cv2.INTER_AREA)\n",
    "\n",
    "# Convert to gray scale\n",
    "gray = cv2.cvtColor(img_color, cv2.COLOR_BGR2GRAY)\n",
    "\n",
    "# Remove noise with gaussian blur\n",
    "edges = cv2.GaussianBlur(gray,(7,7),0)\n",
    " \n",
    "# Edges to binary (black and white)\n",
    "ret,edges = cv2.threshold(edges,200,255,cv2.THRESH_BINARY)\n",
    "\n",
    "# Remove isolated pixels\n",
    "edges = cv2.GaussianBlur(edges,(5,5),0)\n",
    "edges = cv2.threshold(edges, 150 , 250, cv2.THRESH_BINARY)\n",
    "edges = edges[1]\n",
    "\n",
    "edges_clone = edges.copy()\n",
    "\n",
    "cv2.imshow(\"Edges\", edges)\n",
    "cv2.waitKey(0)\n",
    "\n",
    "# cv2.imwrite('Edges.jpg', edges)"
   ]
  },
  {
   "cell_type": "code",
   "execution_count": 34,
   "metadata": {},
   "outputs": [
    {
     "data": {
      "text/plain": [
       "1172"
      ]
     },
     "execution_count": 34,
     "metadata": {},
     "output_type": "execute_result"
    },
    {
     "data": {
      "text/plain": [
       "array([  0, 250], dtype=uint8)"
      ]
     },
     "execution_count": 34,
     "metadata": {},
     "output_type": "execute_result"
    }
   ],
   "source": [
    "# Black-White image means that pixel value is either 0 (Black) or 250 (White)\n",
    "# Counts non-zero array elements.\n",
    "\n",
    "retval = cv2.countNonZero(edges_clone)\n",
    "retval\n",
    "\n",
    "# Find the unique elements of an array --> find unique colors\n",
    "np.unique(edges_clone)"
   ]
  },
  {
   "cell_type": "code",
   "execution_count": 6,
   "metadata": {},
   "outputs": [
    {
     "name": "stdout",
     "output_type": "stream",
     "text": [
      "Edges array has dim 2, shape (1653, 2338), size 3864714, and dtype uint8:\n"
     ]
    }
   ],
   "source": [
    "# Function info() to get array description\n",
    "\n",
    "def info(name, a):\n",
    "    print(f\"{name} has dim {a.ndim}, shape {a.shape}, size {a.size}, and dtype {a.dtype}:\")\n",
    "\n",
    "info(\"Edges array\", edges_clone)"
   ]
  },
  {
   "cell_type": "code",
   "execution_count": 7,
   "metadata": {},
   "outputs": [
    {
     "data": {
      "text/plain": [
       "(array([  56,   56,   56, ..., 1652, 1652, 1652], dtype=int64),\n",
       " array([ 361,  362,  363, ..., 1703, 1704, 1705], dtype=int64))"
      ]
     },
     "execution_count": 7,
     "metadata": {},
     "output_type": "execute_result"
    }
   ],
   "source": [
    "# Return the indices of the elements that are non-zero and pixels are white\n",
    "\n",
    "whitePX = np.asarray(edges_clone == 250).nonzero()\n",
    "whitePX"
   ]
  },
  {
   "cell_type": "code",
   "execution_count": 8,
   "metadata": {},
   "outputs": [
    {
     "data": {
      "text/plain": [
       "250"
      ]
     },
     "execution_count": 8,
     "metadata": {},
     "output_type": "execute_result"
    },
    {
     "data": {
      "text/plain": [
       "0"
      ]
     },
     "execution_count": 8,
     "metadata": {},
     "output_type": "execute_result"
    }
   ],
   "source": [
    "edges_clone[56,361] # --> should be 250 (white)\n",
    "edges_clone[10,1] # --> should be 0 (black)\n"
   ]
  },
  {
   "cell_type": "code",
   "execution_count": 9,
   "metadata": {},
   "outputs": [],
   "source": [
    "# Create and dray circle according to white points coordination\n",
    "# x,y - circle center coordinates, 10 - radius, 1 - thickness\n",
    "\n",
    "def drawCircle(img, x,y):\n",
    "    cv2.circle(img,(x,y),10,(250,250,250),1)"
   ]
  },
  {
   "cell_type": "code",
   "execution_count": 10,
   "metadata": {},
   "outputs": [
    {
     "data": {
      "text/plain": [
       "-1"
      ]
     },
     "execution_count": 10,
     "metadata": {},
     "output_type": "execute_result"
    }
   ],
   "source": [
    "# PRINT CIRCLES AROUND WHITE PIXELS\n",
    "\n",
    "for j in range(len(whitePX[0])-1):\n",
    "    drawCircle(edges_clone,whitePX[1][j], whitePX[0][j])\n",
    "\n",
    "cv2.imshow('Edges', edges_clone) \n",
    "# cv2.imwrite('Circe.png', edges)\n",
    "  \n",
    "# Allows us to see image \n",
    "# untill closed forcefully \n",
    "cv2.waitKey(0) \n",
    "cv2.destroyAllWindows() "
   ]
  },
  {
   "cell_type": "markdown",
   "metadata": {},
   "source": [
    "#### Compare two images and draw growing line"
   ]
  },
  {
   "cell_type": "code",
   "execution_count": 12,
   "metadata": {},
   "outputs": [
    {
     "data": {
      "text/plain": [
       "-1"
      ]
     },
     "execution_count": 12,
     "metadata": {},
     "output_type": "execute_result"
    }
   ],
   "source": [
    "# Read image. Flags: 1=color, 0=grayscale, -1=unchanged.\n",
    "img_color = cv2.imread('test2.jpg', 1)\n",
    "\n",
    "# Resize image\n",
    "scale = 0.5\n",
    "height = int(img_color.shape[0] * scale)\n",
    "width = int(img_color.shape[1] * scale)\n",
    "dim = (width, height)\n",
    "img_color = cv2.resize(img_color, dim, interpolation = cv2.INTER_AREA)\n",
    "\n",
    "# Convert to gray scale\n",
    "gray = cv2.cvtColor(img_color, cv2.COLOR_BGR2GRAY)\n",
    "\n",
    "# Remove noise with gaussian blur\n",
    "edges = cv2.GaussianBlur(gray,(7,7),0)\n",
    " \n",
    "# Edges to binary (black and white)\n",
    "ret,edges = cv2.threshold(edges,200,255,cv2.THRESH_BINARY)\n",
    "\n",
    "# Remove isolated pixels\n",
    "edges = cv2.GaussianBlur(edges,(5,5),0)\n",
    "edges = cv2.threshold(edges, 150 , 250, cv2.THRESH_BINARY)\n",
    "edges2 = edges[1]\n",
    "\n",
    "edges2_clone = edges2.copy()\n",
    "\n",
    "cv2.imshow(\"Edges\", edges2)\n",
    "cv2.waitKey(0)\n",
    "\n",
    "# cv2.imwrite('Edges.jpg', edges)"
   ]
  },
  {
   "cell_type": "code",
   "execution_count": 14,
   "metadata": {},
   "outputs": [
    {
     "data": {
      "text/plain": [
       "634"
      ]
     },
     "execution_count": 14,
     "metadata": {},
     "output_type": "execute_result"
    },
    {
     "data": {
      "text/plain": [
       "array([  0, 250], dtype=uint8)"
      ]
     },
     "execution_count": 14,
     "metadata": {},
     "output_type": "execute_result"
    }
   ],
   "source": [
    "# Black-White image means that pixel value is either 0 (Black) or 250 (White)\n",
    "# Counts non-zero array elements.\n",
    "\n",
    "retval = cv2.countNonZero(edges2_clone)\n",
    "retval\n",
    "\n",
    "# Find the unique elements of an array --> find unique colors\n",
    "np.unique(edges2_clone)"
   ]
  },
  {
   "cell_type": "code",
   "execution_count": 15,
   "metadata": {},
   "outputs": [
    {
     "name": "stdout",
     "output_type": "stream",
     "text": [
      "Edges array has dim 2, shape (1653, 2338), size 3864714, and dtype uint8:\n"
     ]
    }
   ],
   "source": [
    "# Function info() to get array description\n",
    "\n",
    "def info(name, a):\n",
    "    print(f\"{name} has dim {a.ndim}, shape {a.shape}, size {a.size}, and dtype {a.dtype}:\")\n",
    "\n",
    "info(\"Edges array\", edges2_clone)"
   ]
  },
  {
   "cell_type": "code",
   "execution_count": 16,
   "metadata": {},
   "outputs": [
    {
     "data": {
      "text/plain": [
       "(array([  57,   57,   57,   57,   58,   58,   58,   58,   58,   59,   59,\n",
       "          59,   59,   59,   59,   60,   60,   60,   60,   60,   60,   60,\n",
       "          60,   61,   61,   61,   61,   61,   61,   61,   61,   61,   62,\n",
       "          62,   62,   62,   62,   62,   62,   62,   62,   62,   63,   63,\n",
       "          63,   63,   63,   63,   63,   63,   63,   63,   63,   64,   64,\n",
       "          64,   64,   64,   64,   64,   64,   64,   64,   64,   64,   65,\n",
       "          65,   65,   65,   65,   65,   65,   65,   65,   65,   65,   65,\n",
       "          66,   66,   66,   66,   66,   66,   66,   66,   66,   66,   66,\n",
       "          66,   66,   67,   67,   67,   67,   67,   67,   67,   67,   67,\n",
       "          67,   67,   67,   67,   68,   68,   68,   68,   68,   68,   68,\n",
       "          68,   68,   68,   68,   68,   68,   69,   69,   69,   69,   69,\n",
       "          69,   69,   69,   69,   69,   69,   69,   69,   70,   70,   70,\n",
       "          70,   70,   70,   70,   70,   70,   70,   70,   70,   70,   71,\n",
       "          71,   71,   71,   71,   71,   71,   71,   71,   71,   71,   71,\n",
       "          72,   72,   72,   72,   72,   72,   72,   72,   72,   72,   72,\n",
       "          72,   73,   73,   73,   73,   73,   73,   73,   73,   73,   73,\n",
       "          74,   74,   74,   74,   74,   74,   74,   74,   75,   75,   75,\n",
       "          75,   75,  158,  233,  234,  234,  234,  235,  235,  235,  236,\n",
       "         236,  236,  237,  239,  239,  243,  243,  243,  244,  244,  244,\n",
       "         244,  245,  245,  245,  245,  245,  246,  246,  247,  247,  248,\n",
       "         268,  269,  269,  270,  270,  271,  271,  272,  272,  272,  273,\n",
       "         273,  273,  274,  274,  274,  274,  275,  275,  275,  275,  275,\n",
       "         275,  276,  276,  276,  277,  277,  294,  294,  294,  294,  294,\n",
       "         295,  295,  295,  295,  295,  295,  295,  295,  296,  296,  296,\n",
       "         296,  296,  296,  298,  299,  299,  299,  299,  299,  300,  300,\n",
       "         300,  300,  300,  300,  300,  301,  301,  301,  301,  306,  306,\n",
       "         306,  306,  306,  307,  307,  307,  307,  307,  307,  307,  308,\n",
       "         308,  308,  308,  308,  308,  308,  308,  308,  309,  309,  309,\n",
       "         309,  309,  309,  310,  310,  310,  310,  311,  311,  311,  317,\n",
       "         318,  318,  318,  318,  319,  319,  319,  319,  320,  320,  320,\n",
       "         320,  320,  321,  321,  321,  321,  321,  321,  322,  322,  322,\n",
       "         322,  322,  323,  323,  323,  323,  323,  324,  324,  324,  324,\n",
       "         325,  367,  367,  368,  368,  368,  368,  369,  369,  389,  389,\n",
       "         390,  390,  390,  391,  391,  391,  392,  392,  392,  405,  407,\n",
       "         408,  408,  408,  409,  409,  414,  414,  431,  431,  432,  432,\n",
       "         432,  433,  433,  433,  433,  433,  434,  434,  434,  434,  434,\n",
       "         435,  435,  435,  435,  435,  435,  435,  435,  436,  436,  436,\n",
       "         436,  436,  436,  436,  437,  437,  437,  447,  447,  448,  448,\n",
       "         461,  462,  462,  462,  463,  463,  463,  464,  464,  464,  465,\n",
       "         507,  705,  705,  705,  706,  706,  706,  706,  706,  706,  707,\n",
       "         707,  707,  707,  707,  707,  707,  707,  708,  708,  708,  708,\n",
       "         708,  708,  709,  709,  709,  709,  709,  709,  710,  710,  710,\n",
       "         710,  710,  711,  711,  711,  711,  711,  711,  712,  712,  712,\n",
       "         712,  712,  712,  713,  713,  713,  713,  713,  713,  713,  714,\n",
       "         714,  714,  714,  714,  714,  715,  715,  715,  715,  716,  716,\n",
       "         716,  716,  717,  813,  814,  814,  814,  814,  815,  815,  815,\n",
       "         816,  816,  816,  816,  817,  817,  817,  817,  818,  818,  818,\n",
       "         818,  819,  819,  819,  819,  820,  820,  820,  821,  922,  922,\n",
       "         923,  923,  924, 1313, 1314, 1314, 1314, 1315, 1315, 1315, 1316,\n",
       "        1316, 1316, 1386, 1387, 1387, 1387, 1387, 1388, 1388, 1388, 1388,\n",
       "        1388, 1389, 1389, 1389, 1389, 1389, 1389, 1389, 1390, 1390, 1390,\n",
       "        1390, 1390, 1390, 1390, 1391, 1391, 1391, 1391, 1645, 1645, 1646,\n",
       "        1646, 1646, 1646, 1647, 1647, 1648, 1648, 1649, 1649, 1649, 1649,\n",
       "        1649, 1649, 1649, 1649, 1650, 1650, 1650, 1650, 1650, 1650, 1650,\n",
       "        1650, 1650, 1650, 1650, 1650, 1650, 1650, 1651, 1651, 1651, 1651,\n",
       "        1651, 1651, 1651, 1651, 1651, 1651, 1651, 1651, 1651, 1651, 1651,\n",
       "        1651, 1652, 1652, 1652, 1652, 1652, 1652, 1652, 1652, 1652, 1652,\n",
       "        1652, 1652, 1652, 1652, 1652, 1652, 1652], dtype=int64),\n",
       " array([ 360,  361,  362,  363,  360,  361,  362,  363,  364,  359,  360,\n",
       "         361,  362,  363,  364,  358,  359,  360,  361,  362,  363,  364,\n",
       "         365,  358,  359,  360,  361,  362,  363,  364,  365,  366,  357,\n",
       "         358,  359,  360,  361,  362,  363,  364,  365,  366,  357,  358,\n",
       "         359,  360,  361,  362,  363,  364,  365,  366,  367,  356,  357,\n",
       "         358,  359,  360,  361,  362,  363,  364,  365,  366,  367,  356,\n",
       "         357,  358,  359,  360,  361,  362,  363,  364,  365,  366,  367,\n",
       "         356,  357,  358,  359,  360,  361,  362,  363,  364,  365,  366,\n",
       "         367,  368,  356,  357,  358,  359,  360,  361,  362,  363,  364,\n",
       "         365,  366,  367,  368,  356,  357,  358,  359,  360,  361,  362,\n",
       "         363,  364,  365,  366,  367,  368,  356,  357,  358,  359,  360,\n",
       "         361,  362,  363,  364,  365,  366,  367,  368,  356,  357,  358,\n",
       "         359,  360,  361,  362,  363,  364,  365,  366,  367,  368,  357,\n",
       "         358,  359,  360,  361,  362,  363,  364,  365,  366,  367,  368,\n",
       "         357,  358,  359,  360,  361,  362,  363,  364,  365,  366,  367,\n",
       "         368,  358,  359,  360,  361,  362,  363,  364,  365,  366,  367,\n",
       "         360,  361,  362,  363,  364,  365,  366,  367,  362,  363,  364,\n",
       "         365,  366, 1628, 1634, 1633, 1634, 1635, 1634, 1635, 1636, 1634,\n",
       "        1635, 1636, 1636, 2185, 2186, 2185, 2186, 2187, 2184, 2185, 2186,\n",
       "        2187, 1526, 1527, 2184, 2185, 2186, 1526, 1527, 1526, 1527, 1527,\n",
       "        1520, 1519, 1520, 1518, 1519, 1518, 1519, 1517, 1518, 1519, 1517,\n",
       "        1518, 1519, 1517, 1518, 1519, 1526, 1517, 1518, 1519, 1525, 1526,\n",
       "        1527, 1518, 1526, 1527, 1526, 1527, 1592, 1593, 1630, 1631, 1632,\n",
       "        1591, 1592, 1593, 1594, 1629, 1630, 1631, 1632, 1592, 1593, 1594,\n",
       "        1595, 1630, 1631, 1518, 1517, 1518, 1519, 1520, 1521, 1516, 1517,\n",
       "        1518, 1519, 1520, 1521, 1522, 1517, 1518, 1521, 1522, 1539, 1540,\n",
       "        1541, 1542, 1635, 1539, 1540, 1541, 1542, 1634, 1635, 1636, 1538,\n",
       "        1539, 1540, 1541, 1634, 1635, 1636, 1637, 1642, 1539, 1634, 1635,\n",
       "        1636, 1637, 1642, 1634, 1635, 1636, 1637, 1635, 1636, 1637, 2299,\n",
       "        2297, 2298, 2299, 2300, 2297, 2298, 2299, 2300, 2296, 2297, 2298,\n",
       "        2299, 2300, 1605, 2296, 2297, 2298, 2299, 2300, 2295, 2296, 2297,\n",
       "        2298, 2299, 2295, 2296, 2297, 2298, 2299, 2295, 2296, 2297, 2298,\n",
       "        2296,  423,  424,  422,  423,  424,  425,  423,  424,  414,  415,\n",
       "         413,  414,  415,  413,  414,  415,  412,  413,  414,  408, 1419,\n",
       "        1418, 1419, 1420, 1419, 1420,  430,  431,  419,  420,  419,  420,\n",
       "         421,  419,  420,  421,  422,  423,  419,  420,  421,  422,  423,\n",
       "         173,  174,  175,  419,  420,  421,  422,  423,  174,  175,  419,\n",
       "         420,  421,  422,  423,  420,  421,  422,  412,  413,  412,  413,\n",
       "         331,  330,  331,  332,  331,  332,  333,  331,  332,  333,  332,\n",
       "         980, 2180, 2181, 2182, 2179, 2180, 2181, 2182, 2183, 2184, 2178,\n",
       "        2179, 2180, 2181, 2182, 2183, 2184, 2185, 2179, 2180, 2181, 2182,\n",
       "        2183, 2184, 2179, 2180, 2181, 2182, 2183, 2184, 2179, 2180, 2181,\n",
       "        2182, 2183, 2178, 2179, 2180, 2181, 2182, 2183, 2177, 2178, 2179,\n",
       "        2180, 2181, 2182, 2176, 2177, 2178, 2179, 2180, 2181, 2182, 2176,\n",
       "        2177, 2178, 2179, 2180, 2181, 2177, 2178, 2179, 2180, 2177, 2178,\n",
       "        2179, 2180, 2179, 2327, 2325, 2326, 2327, 2328, 2325, 2326, 2327,\n",
       "        2324, 2325, 2326, 2327, 2324, 2325, 2326, 2327, 2324, 2325, 2326,\n",
       "        2327, 2324, 2325, 2326, 2327, 2325, 2326, 2327, 2326, 2331, 2332,\n",
       "        2330, 2331, 2331, 1307, 1306, 1307, 1308, 1307, 1308, 1309, 1308,\n",
       "        1309, 1310, 1539, 1538, 1539, 1540, 1541, 1539, 1540, 1541, 1542,\n",
       "        1543, 1539, 1540, 1541, 1542, 1543, 1544, 1545, 1540, 1541, 1542,\n",
       "        1543, 1544, 1545, 1546, 1542, 1543, 1544, 1545,  773,  774,  772,\n",
       "         773,  774,  775,  772,  773,  771,  772,  763,  764,  765,  770,\n",
       "         771,  772,  778,  779,  762,  763,  764,  765,  766,  767,  768,\n",
       "         769,  770,  771,  772,  778,  779,  780,  761,  762,  763,  764,\n",
       "         765,  766,  767,  768,  769,  770,  771,  772,  777,  778,  779,\n",
       "         780,  761,  762,  763,  764,  765,  766,  767,  768,  769,  770,\n",
       "         771,  772,  773,  777,  778,  779,  780], dtype=int64))"
      ]
     },
     "execution_count": 16,
     "metadata": {},
     "output_type": "execute_result"
    }
   ],
   "source": [
    "# Return the indices of the elements that are non-zero and pixels are white\n",
    "\n",
    "whitePX = np.asarray(edges2_clone == 250).nonzero()\n",
    "whitePX"
   ]
  },
  {
   "cell_type": "code",
   "execution_count": 17,
   "metadata": {},
   "outputs": [
    {
     "data": {
      "text/plain": [
       "-1"
      ]
     },
     "execution_count": 17,
     "metadata": {},
     "output_type": "execute_result"
    }
   ],
   "source": [
    "# PRINT CIRCLES AROUND WHITE PIXELS\n",
    "\n",
    "for j in range(len(whitePX[0])-1):\n",
    "    drawCircle(edges2_clone,whitePX[1][j], whitePX[0][j])\n",
    "\n",
    "cv2.imshow('Edges', edges2_clone) \n",
    "# cv2.imwrite('Circe.png', edges)\n",
    "  \n",
    "# Allows us to see image \n",
    "# untill closed forcefully \n",
    "cv2.waitKey(0) \n",
    "cv2.destroyAllWindows() "
   ]
  },
  {
   "cell_type": "code",
   "execution_count": 28,
   "metadata": {},
   "outputs": [
    {
     "data": {
      "text/plain": [
       "(1653, 2338)"
      ]
     },
     "execution_count": 28,
     "metadata": {},
     "output_type": "execute_result"
    }
   ],
   "source": [
    "edges2.shape"
   ]
  },
  {
   "cell_type": "code",
   "execution_count": 27,
   "metadata": {},
   "outputs": [
    {
     "data": {
      "text/plain": [
       "(1653, 2338)"
      ]
     },
     "execution_count": 27,
     "metadata": {},
     "output_type": "execute_result"
    }
   ],
   "source": [
    "edges.shape"
   ]
  },
  {
   "cell_type": "code",
   "execution_count": 29,
   "metadata": {},
   "outputs": [
    {
     "name": "stdout",
     "output_type": "stream",
     "text": [
      "the difference = [[0 0 0 ... 0 0 0]\n",
      " [0 0 0 ... 0 0 0]\n",
      " [0 0 0 ... 0 0 0]\n",
      " ...\n",
      " [0 0 0 ... 0 0 0]\n",
      " [0 0 0 ... 0 0 0]\n",
      " [0 0 0 ... 0 0 0]]\n"
     ]
    }
   ],
   "source": [
    "result = np.subtract(edges2,edges)\n",
    "print ('the difference =', result)"
   ]
  },
  {
   "cell_type": "code",
   "execution_count": 30,
   "metadata": {},
   "outputs": [
    {
     "name": "stdout",
     "output_type": "stream",
     "text": [
      "Edges array has dim 2, shape (1653, 2338), size 3864714, and dtype uint8:\n"
     ]
    }
   ],
   "source": [
    "info(\"Edges array\", edges2)"
   ]
  },
  {
   "cell_type": "code",
   "execution_count": 31,
   "metadata": {},
   "outputs": [
    {
     "name": "stdout",
     "output_type": "stream",
     "text": [
      "Edges array has dim 2, shape (1653, 2338), size 3864714, and dtype uint8:\n"
     ]
    }
   ],
   "source": [
    "info(\"Edges array\", edges)"
   ]
  },
  {
   "cell_type": "code",
   "execution_count": 32,
   "metadata": {},
   "outputs": [
    {
     "data": {
      "text/plain": [
       "660"
      ]
     },
     "execution_count": 32,
     "metadata": {},
     "output_type": "execute_result"
    }
   ],
   "source": [
    "retval = cv2.countNonZero(result)\n",
    "retval\n"
   ]
  },
  {
   "cell_type": "code",
   "execution_count": null,
   "metadata": {},
   "outputs": [],
   "source": []
  },
  {
   "cell_type": "code",
   "execution_count": null,
   "metadata": {},
   "outputs": [],
   "source": []
  },
  {
   "cell_type": "code",
   "execution_count": null,
   "metadata": {},
   "outputs": [],
   "source": []
  },
  {
   "cell_type": "code",
   "execution_count": null,
   "metadata": {},
   "outputs": [],
   "source": []
  },
  {
   "cell_type": "code",
   "execution_count": null,
   "metadata": {},
   "outputs": [],
   "source": []
  },
  {
   "cell_type": "code",
   "execution_count": null,
   "metadata": {},
   "outputs": [],
   "source": []
  },
  {
   "cell_type": "code",
   "execution_count": null,
   "metadata": {},
   "outputs": [],
   "source": [
    "\n"
   ]
  },
  {
   "cell_type": "code",
   "execution_count": null,
   "metadata": {},
   "outputs": [],
   "source": []
  },
  {
   "cell_type": "code",
   "execution_count": null,
   "metadata": {},
   "outputs": [],
   "source": []
  },
  {
   "cell_type": "code",
   "execution_count": null,
   "metadata": {},
   "outputs": [],
   "source": []
  },
  {
   "cell_type": "code",
   "execution_count": null,
   "metadata": {},
   "outputs": [],
   "source": []
  }
 ],
 "metadata": {
  "kernelspec": {
   "display_name": "Python 3",
   "language": "python",
   "name": "python3"
  },
  "language_info": {
   "codemirror_mode": {
    "name": "ipython",
    "version": 3
   },
   "file_extension": ".py",
   "mimetype": "text/x-python",
   "name": "python",
   "nbconvert_exporter": "python",
   "pygments_lexer": "ipython3",
   "version": "3.6.7"
  }
 },
 "nbformat": 4,
 "nbformat_minor": 2
}
